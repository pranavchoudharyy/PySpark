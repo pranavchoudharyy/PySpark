{
  "cells": [
    {
      "cell_type": "markdown",
      "metadata": {
        "id": "ZZPtipYTrbgk"
      },
      "source": [
        "# Apache PySpark by Example"
      ]
    },
    {
      "cell_type": "markdown",
      "metadata": {
        "id": "Dd6t0uFzuR4X"
      },
      "source": [
        "## Install Spark"
      ]
    },
    {
      "cell_type": "markdown",
      "metadata": {
        "id": "qu34sKRJvhq_"
      },
      "source": [
        "- Google colab recently made some changes which breaks the Spark installation.\n",
        "- Please use the code below where we install from the pyspark package instead"
      ]
    },
    {
      "cell_type": "code",
      "execution_count": 115,
      "metadata": {
        "id": "We2yp-o7Hgu9"
      },
      "outputs": [
        {
          "name": "stdout",
          "output_type": "stream",
          "text": [
            "Requirement already satisfied: pyspark in /Library/Frameworks/Python.framework/Versions/3.12/lib/python3.12/site-packages (3.5.2)\n",
            "Requirement already satisfied: py4j==0.10.9.7 in /Library/Frameworks/Python.framework/Versions/3.12/lib/python3.12/site-packages (from pyspark) (0.10.9.7)\n",
            "\n",
            "\u001b[1m[\u001b[0m\u001b[34;49mnotice\u001b[0m\u001b[1;39;49m]\u001b[0m\u001b[39;49m A new release of pip is available: \u001b[0m\u001b[31;49m24.0\u001b[0m\u001b[39;49m -> \u001b[0m\u001b[32;49m24.2\u001b[0m\n",
            "\u001b[1m[\u001b[0m\u001b[34;49mnotice\u001b[0m\u001b[1;39;49m]\u001b[0m\u001b[39;49m To update, run: \u001b[0m\u001b[32;49mpip3 install --upgrade pip\u001b[0m\n",
            "Note: you may need to restart the kernel to use updated packages.\n"
          ]
        },
        {
          "data": {
            "text/html": [
              "\n",
              "            <div>\n",
              "                <p><b>SparkSession - in-memory</b></p>\n",
              "                \n",
              "        <div>\n",
              "            <p><b>SparkContext</b></p>\n",
              "\n",
              "            <p><a href=\"http://192.168.1.3:4040\">Spark UI</a></p>\n",
              "\n",
              "            <dl>\n",
              "              <dt>Version</dt>\n",
              "                <dd><code>v3.5.2</code></dd>\n",
              "              <dt>Master</dt>\n",
              "                <dd><code>local[*]</code></dd>\n",
              "              <dt>AppName</dt>\n",
              "                <dd><code>pyspark-shell</code></dd>\n",
              "            </dl>\n",
              "        </div>\n",
              "        \n",
              "            </div>\n",
              "        "
            ],
            "text/plain": [
              "<pyspark.sql.session.SparkSession at 0x107ff3320>"
            ]
          },
          "execution_count": 115,
          "metadata": {},
          "output_type": "execute_result"
        }
      ],
      "source": [
        "%pip install pyspark\n",
        "from pyspark.sql import SparkSession\n",
        "spark = SparkSession.builder.master(\"local[*]\").getOrCreate()\n",
        "spark"
      ]
    },
    {
      "cell_type": "markdown",
      "metadata": {
        "id": "XO081lQtutJ-"
      },
      "source": []
    },
    {
      "cell_type": "markdown",
      "metadata": {
        "id": "8qf-TmnsBgXd"
      },
      "source": [
        "## (02-02) Download Chicago's Reported Crime Data"
      ]
    },
    {
      "cell_type": "markdown",
      "metadata": {
        "id": "0ysUlfFrN5OD"
      },
      "source": [
        "### Downloading and preprocessing Chicago's Reported Crime Data"
      ]
    },
    {
      "cell_type": "code",
      "execution_count": 6,
      "metadata": {
        "id": "FDtw5Hy3N-pV"
      },
      "outputs": [
        {
          "name": "stdout",
          "output_type": "stream",
          "text": [
            "zsh:1: no matches found: https://data.cityofchicago.org/api/views/ijzp-q8t2/rows.csv?accessType=DOWNLOAD\n"
          ]
        },
        {
          "ename": "NameError",
          "evalue": "name 'ls' is not defined",
          "output_type": "error",
          "traceback": [
            "\u001b[0;31m---------------------------------------------------------------------------\u001b[0m",
            "\u001b[0;31mNameError\u001b[0m                                 Traceback (most recent call last)",
            "Cell \u001b[0;32mIn[6], line 2\u001b[0m\n\u001b[1;32m      1\u001b[0m get_ipython()\u001b[38;5;241m.\u001b[39msystem(\u001b[38;5;124m'\u001b[39m\u001b[38;5;124mwget https://data.cityofchicago.org/api/views/ijzp-q8t2/rows.csv?accessType=DOWNLOAD\u001b[39m\u001b[38;5;124m'\u001b[39m)\n\u001b[0;32m----> 2\u001b[0m \u001b[43mls\u001b[49m \u001b[38;5;241m-\u001b[39ml\n",
            "\u001b[0;31mNameError\u001b[0m: name 'ls' is not defined"
          ]
        }
      ],
      "source": [
        "%wget https://data.cityofchicago.org/api/views/ijzp-q8t2/rows.csv?accessType=DOWNLOAD"
      ]
    },
    {
      "cell_type": "code",
      "execution_count": 89,
      "metadata": {},
      "outputs": [
        {
          "name": "stdout",
          "output_type": "stream",
          "text": [
            "total 3769136\n",
            "-rw-r--r--  1 pranavchoudhary  staff       77126 Aug 16 18:43 Apache_PySpark_by_Example.ipynb\n",
            "-rw-r--r--  1 pranavchoudhary  staff         635 Aug 15 13:00 CONTRIBUTING.md\n",
            "-rw-r--r--  1 pranavchoudhary  staff        6648 Aug 15 13:00 LICENSE\n",
            "-rw-r--r--  1 pranavchoudhary  staff         617 Aug 15 13:00 NOTICE\n",
            "-rw-r--r--  1 pranavchoudhary  staff        1218 Aug 15 13:00 README.md\n",
            "-rw-r--r--@ 1 pranavchoudhary  staff  1920848630 Aug 16 17:02 reported-crimes.csv\n"
          ]
        }
      ],
      "source": [
        "%ls -l"
      ]
    },
    {
      "cell_type": "code",
      "execution_count": 11,
      "metadata": {
        "id": "v4P5mMONYyVd"
      },
      "outputs": [
        {
          "name": "stdout",
          "output_type": "stream",
          "text": [
            "total 3769056\n",
            "-rw-r--r--  1 pranavchoudhary  staff       33677 Aug 15 13:00 Apache_PySpark_by_Example.ipynb\n",
            "-rw-r--r--  1 pranavchoudhary  staff         635 Aug 15 13:00 CONTRIBUTING.md\n",
            "-rw-r--r--  1 pranavchoudhary  staff        6648 Aug 15 13:00 LICENSE\n",
            "-rw-r--r--  1 pranavchoudhary  staff         617 Aug 15 13:00 NOTICE\n",
            "-rw-r--r--  1 pranavchoudhary  staff        1218 Aug 15 13:00 README.md\n",
            "-rw-r--r--@ 1 pranavchoudhary  staff  1920848630 Aug 16 17:02 reported-crimes.csv\n"
          ]
        }
      ],
      "source": [
        "%mv Crimes_-_2001_to_Present.csv reported-crimes.csv\n",
        "%ls -l"
      ]
    },
    {
      "cell_type": "code",
      "execution_count": 154,
      "metadata": {
        "id": "9-1cK0nPNS95"
      },
      "outputs": [
        {
          "name": "stdout",
          "output_type": "stream",
          "text": [
            "+--------+-----------+-------------------+------------------+----+--------------------+--------------------+--------------------+------+--------+----+--------+----+--------------+--------+------------+------------+----+--------------------+--------+---------+--------+\n",
            "|      ID|Case Number|               Date|             Block|IUCR|        Primary Type|         Description|Location Description|Arrest|Domestic|Beat|District|Ward|Community Area|FBI Code|X Coordinate|Y Coordinate|Year|          Updated On|Latitude|Longitude|Location|\n",
            "+--------+-----------+-------------------+------------------+----+--------------------+--------------------+--------------------+------+--------+----+--------+----+--------------+--------+------------+------------+----+--------------------+--------+---------+--------+\n",
            "| 5741943|   HN549294|2007-08-25 09:22:18|074XX N ROGERS AVE|0560|             ASSAULT|              SIMPLE|               OTHER| false|   false|2422|     024|  49|             1|     08A|        NULL|        NULL|2007|08/17/2015 03:03:...|    NULL|     NULL|    NULL|\n",
            "| 1930689|   HH109118|2002-01-05 21:24:00|    007XX E 103 ST|0820|               THEFT|      $500 AND UNDER|         GAS STATION|  true|   false|0512|     005|NULL|          NULL|      06|        NULL|        NULL|2002|02/04/2016 06:33:...|    NULL|     NULL|    NULL|\n",
            "|12416974|   JE293464|2011-08-10 00:01:00|   031XX W 53RD PL|1753|OFFENSE INVOLVING...|SEXUAL ASSAULT OF...|           RESIDENCE| false|    true|0923|     009|  14|            63|      02|        NULL|        NULL|2011|09/14/2023 03:41:...|    NULL|     NULL|    NULL|\n",
            "|12536164|   JE439378|2015-09-24 00:00:00|   031XX W 53RD PL|1753|OFFENSE INVOLVING...|SEXUAL ASSAULT OF...|           APARTMENT| false|    true|0923|     009|  14|            63|      02|        NULL|        NULL|2015|09/14/2023 03:41:...|    NULL|     NULL|    NULL|\n",
            "|12536166|   JE439332|2014-09-07 00:00:00|   031XX W 53RD PL|1753|OFFENSE INVOLVING...|SEXUAL ASSAULT OF...|           APARTMENT| false|    true|0923|     009|  14|            63|      02|        NULL|        NULL|2014|09/14/2023 03:41:...|    NULL|     NULL|    NULL|\n",
            "+--------+-----------+-------------------+------------------+----+--------------------+--------------------+--------------------+------+--------+----+--------+----+--------------+--------+------------+------------+----+--------------------+--------+---------+--------+\n",
            "only showing top 5 rows\n",
            "\n"
          ]
        }
      ],
      "source": [
        "from pyspark.sql.functions import to_timestamp,col,lit\n",
        "rc = spark.read.csv('reported-crimes.csv',header=True).withColumn('Date',to_timestamp(col('Date'),'MM/dd/yyyy hh:mm:ss a')).filter(col('Date') <= lit('2018-11-11'))\n",
        "rc.show(5)"
      ]
    },
    {
      "cell_type": "markdown",
      "metadata": {
        "id": "3UJoYm5zwOWp"
      },
      "source": [
        "## (03-03) Schemas"
      ]
    },
    {
      "cell_type": "code",
      "execution_count": 14,
      "metadata": {
        "id": "PeeOFy5cgDRq"
      },
      "outputs": [
        {
          "name": "stdout",
          "output_type": "stream",
          "text": [
            "root\n",
            " |-- ID: string (nullable = true)\n",
            " |-- Case Number: string (nullable = true)\n",
            " |-- Date: timestamp (nullable = true)\n",
            " |-- Block: string (nullable = true)\n",
            " |-- IUCR: string (nullable = true)\n",
            " |-- Primary Type: string (nullable = true)\n",
            " |-- Description: string (nullable = true)\n",
            " |-- Location Description: string (nullable = true)\n",
            " |-- Arrest: string (nullable = true)\n",
            " |-- Domestic: string (nullable = true)\n",
            " |-- Beat: string (nullable = true)\n",
            " |-- District: string (nullable = true)\n",
            " |-- Ward: string (nullable = true)\n",
            " |-- Community Area: string (nullable = true)\n",
            " |-- FBI Code: string (nullable = true)\n",
            " |-- X Coordinate: string (nullable = true)\n",
            " |-- Y Coordinate: string (nullable = true)\n",
            " |-- Year: string (nullable = true)\n",
            " |-- Updated On: string (nullable = true)\n",
            " |-- Latitude: string (nullable = true)\n",
            " |-- Longitude: string (nullable = true)\n",
            " |-- Location: string (nullable = true)\n",
            "\n"
          ]
        }
      ],
      "source": [
        "rc.printSchema()"
      ]
    },
    {
      "cell_type": "code",
      "execution_count": 18,
      "metadata": {
        "id": "qLS_NEpEgDBJ"
      },
      "outputs": [],
      "source": [
        "from pyspark.sql.types import StructType, StringType, DoubleType, BooleanType, StructField, TimestampType, IntegerType"
      ]
    },
    {
      "cell_type": "code",
      "execution_count": 19,
      "metadata": {
        "id": "E7NuMVpygC2h"
      },
      "outputs": [
        {
          "data": {
            "text/plain": [
              "['ID',\n",
              " 'Case Number',\n",
              " 'Date',\n",
              " 'Block',\n",
              " 'IUCR',\n",
              " 'Primary Type',\n",
              " 'Description',\n",
              " 'Location Description',\n",
              " 'Arrest',\n",
              " 'Domestic',\n",
              " 'Beat',\n",
              " 'District',\n",
              " 'Ward',\n",
              " 'Community Area',\n",
              " 'FBI Code',\n",
              " 'X Coordinate',\n",
              " 'Y Coordinate',\n",
              " 'Year',\n",
              " 'Updated On',\n",
              " 'Latitude',\n",
              " 'Longitude',\n",
              " 'Location']"
            ]
          },
          "execution_count": 19,
          "metadata": {},
          "output_type": "execute_result"
        }
      ],
      "source": [
        "rc.columns"
      ]
    },
    {
      "cell_type": "code",
      "execution_count": 20,
      "metadata": {
        "id": "ugRDxNwNgHNa"
      },
      "outputs": [],
      "source": [
        "labels = [\n",
        " ('ID',StringType()),\n",
        " ('Case Number',StringType()),\n",
        " ('Date',TimestampType()),\n",
        " ('Block',StringType()),\n",
        " ('IUCR',StringType()),\n",
        " ('Primary Type',StringType()),\n",
        " ('Description',StringType()),\n",
        " ('Location Description',StringType()),\n",
        " ('Arrest',StringType()),\n",
        " ('Domestic',BooleanType()),\n",
        " ('Beat',StringType()),\n",
        " ('District',StringType()),\n",
        " ('Ward',StringType()),\n",
        " ('Community Area',StringType()),\n",
        " ('FBI Code',StringType()),\n",
        " ('X Coordinate',StringType()),\n",
        " ('Y Coordinate',StringType()),\n",
        " ('Year',IntegerType()),\n",
        " ('Updated On',StringType()),\n",
        " ('Latitude',DoubleType()),\n",
        " ('Longitude',DoubleType()),\n",
        " ('Location',StringType())\n",
        "]"
      ]
    },
    {
      "cell_type": "code",
      "execution_count": 27,
      "metadata": {
        "id": "T6w6-fN9gG_7"
      },
      "outputs": [
        {
          "data": {
            "text/plain": [
              "StructType([StructField('ID', StringType(), True), StructField('Case Number', StringType(), True), StructField('Date', TimestampType(), True), StructField('Block', StringType(), True), StructField('IUCR', StringType(), True), StructField('Primary Type', StringType(), True), StructField('Description', StringType(), True), StructField('Location Description', StringType(), True), StructField('Arrest', StringType(), True), StructField('Domestic', BooleanType(), True), StructField('Beat', StringType(), True), StructField('District', StringType(), True), StructField('Ward', StringType(), True), StructField('Community Area', StringType(), True), StructField('FBI Code', StringType(), True), StructField('X Coordinate', StringType(), True), StructField('Y Coordinate', StringType(), True), StructField('Year', IntegerType(), True), StructField('Updated On', StringType(), True), StructField('Latitude', DoubleType(), True), StructField('Longitude', DoubleType(), True), StructField('Location', StringType(), True)])"
            ]
          },
          "execution_count": 27,
          "metadata": {},
          "output_type": "execute_result"
        }
      ],
      "source": [
        "schema = StructType([\n",
        "    StructField(\n",
        "        x[0],x[1],True\n",
        "    ) for x in labels\n",
        "])\n",
        "schema"
      ]
    },
    {
      "cell_type": "code",
      "execution_count": 29,
      "metadata": {
        "id": "JkUF4yJFgG25"
      },
      "outputs": [
        {
          "name": "stdout",
          "output_type": "stream",
          "text": [
            "root\n",
            " |-- ID: string (nullable = true)\n",
            " |-- Case Number: string (nullable = true)\n",
            " |-- Date: timestamp (nullable = true)\n",
            " |-- Block: string (nullable = true)\n",
            " |-- IUCR: string (nullable = true)\n",
            " |-- Primary Type: string (nullable = true)\n",
            " |-- Description: string (nullable = true)\n",
            " |-- Location Description: string (nullable = true)\n",
            " |-- Arrest: string (nullable = true)\n",
            " |-- Domestic: boolean (nullable = true)\n",
            " |-- Beat: string (nullable = true)\n",
            " |-- District: string (nullable = true)\n",
            " |-- Ward: string (nullable = true)\n",
            " |-- Community Area: string (nullable = true)\n",
            " |-- FBI Code: string (nullable = true)\n",
            " |-- X Coordinate: string (nullable = true)\n",
            " |-- Y Coordinate: string (nullable = true)\n",
            " |-- Year: integer (nullable = true)\n",
            " |-- Updated On: string (nullable = true)\n",
            " |-- Latitude: double (nullable = true)\n",
            " |-- Longitude: double (nullable = true)\n",
            " |-- Location: string (nullable = true)\n",
            "\n"
          ]
        }
      ],
      "source": [
        "rc = spark.read.csv('reported-crimes.csv',schema = schema)\n",
        "rc.printSchema()"
      ]
    },
    {
      "cell_type": "code",
      "execution_count": 30,
      "metadata": {
        "id": "o3IB6VxLgGYi"
      },
      "outputs": [
        {
          "name": "stdout",
          "output_type": "stream",
          "text": [
            "+--------+-----------+----+--------------------+----+------------+-------------------+--------------------+------+--------+----+--------+----+--------------+--------+------------+------------+----+--------------------+------------+-------------+--------------------+\n",
            "|      ID|Case Number|Date|               Block|IUCR|Primary Type|        Description|Location Description|Arrest|Domestic|Beat|District|Ward|Community Area|FBI Code|X Coordinate|Y Coordinate|Year|          Updated On|    Latitude|    Longitude|            Location|\n",
            "+--------+-----------+----+--------------------+----+------------+-------------------+--------------------+------+--------+----+--------+----+--------------+--------+------------+------------+----+--------------------+------------+-------------+--------------------+\n",
            "|      ID|Case Number|NULL|               Block|IUCR|Primary Type|        Description|Location Description|Arrest|    NULL|Beat|District|Ward|Community Area|FBI Code|X Coordinate|Y Coordinate|NULL|          Updated On|        NULL|         NULL|            Location|\n",
            "| 5741943|   HN549294|NULL|  074XX N ROGERS AVE|0560|     ASSAULT|             SIMPLE|               OTHER| false|   false|2422|     024|  49|             1|     08A|        NULL|        NULL|2007|08/17/2015 03:03:...|        NULL|         NULL|                NULL|\n",
            "|   25953|   JE240540|NULL| 020XX N LARAMIE AVE|0110|    HOMICIDE|FIRST DEGREE MURDER|              STREET|  true|   false|2515|     025|  36|            19|     01A|     1141387|     1913179|2021|11/18/2023 03:39:...|41.917838056|-87.755968972|(41.917838056, -8...|\n",
            "|   26038|   JE279849|NULL|062XX N MC CORMIC...|0110|    HOMICIDE|FIRST DEGREE MURDER|         PARKING LOT|  true|   false|1711|     017|  50|            13|     01A|     1152781|     1941458|2021|11/18/2023 03:39:...|41.995219444|-87.713354912|(41.995219444, -8...|\n",
            "|13279676|   JG507211|NULL|    019XX W BYRON ST|0620|    BURGLARY|     UNLAWFUL ENTRY|           APARTMENT| false|   false|1922|     019|  47|             5|      05|     1162518|     1925906|2023|11/18/2023 03:39:...|41.952345086|-87.677975059|(41.952345086, -8...|\n",
            "+--------+-----------+----+--------------------+----+------------+-------------------+--------------------+------+--------+----+--------+----+--------------+--------+------------+------------+----+--------------------+------------+-------------+--------------------+\n",
            "only showing top 5 rows\n",
            "\n"
          ]
        }
      ],
      "source": [
        "rc.show(5)"
      ]
    },
    {
      "cell_type": "markdown",
      "metadata": {
        "id": "mI_zYOVpf2yK"
      },
      "source": [
        "## (03-04) Working with columns"
      ]
    },
    {
      "cell_type": "markdown",
      "metadata": {
        "id": "WvOfJmzhf0kG"
      },
      "source": [
        "**Display only the first 5 rows of the column name IUCR**"
      ]
    },
    {
      "cell_type": "code",
      "execution_count": 31,
      "metadata": {
        "id": "808f1HzwgDyh"
      },
      "outputs": [
        {
          "name": "stdout",
          "output_type": "stream",
          "text": [
            "+----+\n",
            "|IUCR|\n",
            "+----+\n",
            "|IUCR|\n",
            "|0560|\n",
            "|0110|\n",
            "|0110|\n",
            "|0620|\n",
            "+----+\n",
            "only showing top 5 rows\n",
            "\n"
          ]
        }
      ],
      "source": [
        "rc.select('IUCR').show(5)"
      ]
    },
    {
      "cell_type": "markdown",
      "metadata": {
        "id": "A4u5vp73gEtB"
      },
      "source": [
        "  **Display only the first 4 rows of the column names Case Number, Date and Arrest**"
      ]
    },
    {
      "cell_type": "code",
      "execution_count": 32,
      "metadata": {
        "id": "vWhJLf41yJl1"
      },
      "outputs": [
        {
          "name": "stdout",
          "output_type": "stream",
          "text": [
            "+-----------+----+------+\n",
            "|Case Number|Date|Arrest|\n",
            "+-----------+----+------+\n",
            "|Case Number|NULL|Arrest|\n",
            "|   HN549294|NULL| false|\n",
            "|   JE240540|NULL|  true|\n",
            "|   JE279849|NULL|  true|\n",
            "+-----------+----+------+\n",
            "only showing top 4 rows\n",
            "\n"
          ]
        }
      ],
      "source": [
        "rc.select('Case Number','Date','Arrest').show(4)"
      ]
    },
    {
      "cell_type": "markdown",
      "metadata": {
        "id": "GKnmLXJWr35c"
      },
      "source": [
        "**Add a column with name One, with entries all 1s**"
      ]
    },
    {
      "cell_type": "code",
      "execution_count": 33,
      "metadata": {
        "id": "dSA_eLl6uH3p"
      },
      "outputs": [
        {
          "name": "stdout",
          "output_type": "stream",
          "text": [
            "+--------+-----------+----+--------------------+----+------------+-------------------+--------------------+------+--------+----+--------+----+--------------+--------+------------+------------+----+--------------------+------------+-------------+--------------------+---+\n",
            "|      ID|Case Number|Date|               Block|IUCR|Primary Type|        Description|Location Description|Arrest|Domestic|Beat|District|Ward|Community Area|FBI Code|X Coordinate|Y Coordinate|Year|          Updated On|    Latitude|    Longitude|            Location|One|\n",
            "+--------+-----------+----+--------------------+----+------------+-------------------+--------------------+------+--------+----+--------+----+--------------+--------+------------+------------+----+--------------------+------------+-------------+--------------------+---+\n",
            "|      ID|Case Number|NULL|               Block|IUCR|Primary Type|        Description|Location Description|Arrest|    NULL|Beat|District|Ward|Community Area|FBI Code|X Coordinate|Y Coordinate|NULL|          Updated On|        NULL|         NULL|            Location|  1|\n",
            "| 5741943|   HN549294|NULL|  074XX N ROGERS AVE|0560|     ASSAULT|             SIMPLE|               OTHER| false|   false|2422|     024|  49|             1|     08A|        NULL|        NULL|2007|08/17/2015 03:03:...|        NULL|         NULL|                NULL|  1|\n",
            "|   25953|   JE240540|NULL| 020XX N LARAMIE AVE|0110|    HOMICIDE|FIRST DEGREE MURDER|              STREET|  true|   false|2515|     025|  36|            19|     01A|     1141387|     1913179|2021|11/18/2023 03:39:...|41.917838056|-87.755968972|(41.917838056, -8...|  1|\n",
            "|   26038|   JE279849|NULL|062XX N MC CORMIC...|0110|    HOMICIDE|FIRST DEGREE MURDER|         PARKING LOT|  true|   false|1711|     017|  50|            13|     01A|     1152781|     1941458|2021|11/18/2023 03:39:...|41.995219444|-87.713354912|(41.995219444, -8...|  1|\n",
            "|13279676|   JG507211|NULL|    019XX W BYRON ST|0620|    BURGLARY|     UNLAWFUL ENTRY|           APARTMENT| false|   false|1922|     019|  47|             5|      05|     1162518|     1925906|2023|11/18/2023 03:39:...|41.952345086|-87.677975059|(41.952345086, -8...|  1|\n",
            "+--------+-----------+----+--------------------+----+------------+-------------------+--------------------+------+--------+----+--------+----+--------------+--------+------------+------------+----+--------------------+------------+-------------+--------------------+---+\n",
            "only showing top 5 rows\n",
            "\n"
          ]
        }
      ],
      "source": [
        "from pyspark.sql.functions import lit\n",
        "rc = rc.withColumn('One',lit(1))\n",
        "rc.show(5)"
      ]
    },
    {
      "cell_type": "markdown",
      "metadata": {
        "id": "BKV2ymA2uI2h"
      },
      "source": [
        "**Remove the column IUCR**"
      ]
    },
    {
      "cell_type": "code",
      "execution_count": 38,
      "metadata": {
        "id": "3wr2Q9djtXBV"
      },
      "outputs": [
        {
          "name": "stdout",
          "output_type": "stream",
          "text": [
            "+--------+-----------+----+--------------------+------------+-------------------+--------------------+------+--------+----+--------+----+--------------+--------+------------+------------+----+--------------------+------------+-------------+--------------------+---+\n",
            "|      ID|Case Number|Date|               Block|Primary Type|        Description|Location Description|Arrest|Domestic|Beat|District|Ward|Community Area|FBI Code|X Coordinate|Y Coordinate|Year|          Updated On|    Latitude|    Longitude|            Location|One|\n",
            "+--------+-----------+----+--------------------+------------+-------------------+--------------------+------+--------+----+--------+----+--------------+--------+------------+------------+----+--------------------+------------+-------------+--------------------+---+\n",
            "|      ID|Case Number|NULL|               Block|Primary Type|        Description|Location Description|Arrest|    NULL|Beat|District|Ward|Community Area|FBI Code|X Coordinate|Y Coordinate|NULL|          Updated On|        NULL|         NULL|            Location|  1|\n",
            "| 5741943|   HN549294|NULL|  074XX N ROGERS AVE|     ASSAULT|             SIMPLE|               OTHER| false|   false|2422|     024|  49|             1|     08A|        NULL|        NULL|2007|08/17/2015 03:03:...|        NULL|         NULL|                NULL|  1|\n",
            "|   25953|   JE240540|NULL| 020XX N LARAMIE AVE|    HOMICIDE|FIRST DEGREE MURDER|              STREET|  true|   false|2515|     025|  36|            19|     01A|     1141387|     1913179|2021|11/18/2023 03:39:...|41.917838056|-87.755968972|(41.917838056, -8...|  1|\n",
            "|   26038|   JE279849|NULL|062XX N MC CORMIC...|    HOMICIDE|FIRST DEGREE MURDER|         PARKING LOT|  true|   false|1711|     017|  50|            13|     01A|     1152781|     1941458|2021|11/18/2023 03:39:...|41.995219444|-87.713354912|(41.995219444, -8...|  1|\n",
            "|13279676|   JG507211|NULL|    019XX W BYRON ST|    BURGLARY|     UNLAWFUL ENTRY|           APARTMENT| false|   false|1922|     019|  47|             5|      05|     1162518|     1925906|2023|11/18/2023 03:39:...|41.952345086|-87.677975059|(41.952345086, -8...|  1|\n",
            "+--------+-----------+----+--------------------+------------+-------------------+--------------------+------+--------+----+--------+----+--------------+--------+------------+------------+----+--------------------+------------+-------------+--------------------+---+\n",
            "only showing top 5 rows\n",
            "\n"
          ]
        }
      ],
      "source": [
        "rc = rc.drop('IUCR')\n",
        "rc.show(5)"
      ]
    },
    {
      "cell_type": "markdown",
      "metadata": {
        "id": "NiU1nhA3y0j4"
      },
      "source": [
        "## (03-05) Working with rows"
      ]
    },
    {
      "cell_type": "markdown",
      "metadata": {
        "id": "hgnCWSfNZsLV"
      },
      "source": [
        "**Add the reported crimes for an additional day, 12-Nov-2018, to our dataset.**"
      ]
    },
    {
      "cell_type": "code",
      "execution_count": 39,
      "metadata": {
        "id": "52EiVt15y0j4"
      },
      "outputs": [
        {
          "name": "stderr",
          "output_type": "stream",
          "text": [
            "                                                                                \r"
          ]
        },
        {
          "data": {
            "text/plain": [
              "4"
            ]
          },
          "execution_count": 39,
          "metadata": {},
          "output_type": "execute_result"
        }
      ],
      "source": [
        "one_day = spark.read.csv('reported-crimes.csv',header=True).withColumn('Date',to_timestamp(col('Date'),'MM/dd/yyyy hh:mm:ss a')).filter(col('Date') == lit('2018-11-12'))\n",
        "one_day.count()"
      ]
    },
    {
      "cell_type": "code",
      "execution_count": 40,
      "metadata": {
        "id": "Lg5XEVXiy0j4"
      },
      "outputs": [
        {
          "name": "stderr",
          "output_type": "stream",
          "text": [
            "[Stage 16:===================================================>     (9 + 1) / 10]\r"
          ]
        },
        {
          "name": "stdout",
          "output_type": "stream",
          "text": [
            "+--------+-----------+-------------------+-------------------+----+------------------+--------------------+--------------------+------+--------+----+--------+----+--------------+--------+------------+------------+----+--------------------+------------+-------------+--------------------+\n",
            "|      ID|Case Number|               Date|              Block|IUCR|      Primary Type|         Description|Location Description|Arrest|Domestic|Beat|District|Ward|Community Area|FBI Code|X Coordinate|Y Coordinate|Year|          Updated On|    Latitude|    Longitude|            Location|\n",
            "+--------+-----------+-------------------+-------------------+----+------------------+--------------------+--------------------+------+--------+----+--------+----+--------------+--------+------------+------------+----+--------------------+------------+-------------+--------------------+\n",
            "|13358766|   JH140578|2018-11-12 00:00:00|    008XX E 63RD ST|1153|DECEPTIVE PRACTICE|FINANCIAL IDENTIT...|           APARTMENT| false|   false|0313|     003|  20|            42|      11|        NULL|        NULL|2018|02/05/2024 03:41:...|        NULL|         NULL|                NULL|\n",
            "|11540042|   JB559262|2018-11-12 00:00:00|010XX N DEARBORN ST|1140|DECEPTIVE PRACTICE|        EMBEZZLEMENT|   CONVENIENCE STORE|  true|   false|1824|     018|   2|             8|      12|     1175747|     1907348|2018|03/16/2019 04:01:...|41.901133376|-87.629904979|(41.901133376, -8...|\n",
            "|11516594|   JB528186|2018-11-12 00:00:00|049XX S PRAIRIE AVE|2826|     OTHER OFFENSE|HARASSMENT BY ELE...|               OTHER| false|   false|0224|     002|   3|            38|      26|     1178879|     1872259|2018|11/28/2018 04:14:...|41.804775828|-87.619472488|(41.804775828, -8...|\n",
            "|11505149|   JB513151|2018-11-12 00:00:00| 003XX S WHIPPLE ST|0810|             THEFT|           OVER $500|              STREET| false|   false|1124|     011|  28|            27|      06|     1156099|     1898319|2018|11/19/2018 04:22:...|41.876776356|-87.702317641|(41.876776356, -8...|\n",
            "+--------+-----------+-------------------+-------------------+----+------------------+--------------------+--------------------+------+--------+----+--------+----+--------------+--------+------------+------------+----+--------------------+------------+-------------+--------------------+\n",
            "\n"
          ]
        },
        {
          "name": "stderr",
          "output_type": "stream",
          "text": [
            "                                                                                \r"
          ]
        }
      ],
      "source": [
        "one_day.show()"
      ]
    },
    {
      "cell_type": "code",
      "execution_count": 41,
      "metadata": {
        "id": "cZY70_Dzy0j4"
      },
      "outputs": [
        {
          "name": "stderr",
          "output_type": "stream",
          "text": [
            "                                                                                \r"
          ]
        },
        {
          "data": {
            "text/plain": [
              "8131950"
            ]
          },
          "execution_count": 41,
          "metadata": {},
          "output_type": "execute_result"
        }
      ],
      "source": [
        "rc.count()"
      ]
    },
    {
      "cell_type": "code",
      "execution_count": 44,
      "metadata": {
        "id": "0AWxi1tfy0j4"
      },
      "outputs": [
        {
          "data": {
            "text/plain": [
              "DataFrame[ID: string, Case Number: string, Date: timestamp, Block: string, IUCR: string, Primary Type: string, Description: string, Location Description: string, Arrest: string, Domestic: string, Beat: string, District: string, Ward: string, Community Area: string, FBI Code: string, X Coordinate: string, Y Coordinate: string, Year: string, Updated On: string, Latitude: string, Longitude: string, Location: string]"
            ]
          },
          "execution_count": 44,
          "metadata": {},
          "output_type": "execute_result"
        }
      ],
      "source": [
        "rc.union(one_day)"
      ]
    },
    {
      "cell_type": "code",
      "execution_count": 45,
      "metadata": {
        "id": "1fTTDzg-y0j4"
      },
      "outputs": [
        {
          "name": "stderr",
          "output_type": "stream",
          "text": [
            "                                                                                \r"
          ]
        },
        {
          "data": {
            "text/plain": [
              "6757222"
            ]
          },
          "execution_count": 45,
          "metadata": {},
          "output_type": "execute_result"
        }
      ],
      "source": [
        "rc.count()"
      ]
    },
    {
      "cell_type": "code",
      "execution_count": 48,
      "metadata": {
        "id": "PyPd5oppy0j4"
      },
      "outputs": [
        {
          "name": "stderr",
          "output_type": "stream",
          "text": [
            "                                                                                \r"
          ]
        },
        {
          "data": {
            "text/plain": [
              "6757226"
            ]
          },
          "execution_count": 48,
          "metadata": {},
          "output_type": "execute_result"
        }
      ],
      "source": [
        "rc = rc.union(one_day)\n",
        "rc.count()"
      ]
    },
    {
      "cell_type": "markdown",
      "metadata": {
        "id": "rzaD3gLyy0j4"
      },
      "source": [
        "**What are the top 10 number of reported crimes by Primary type, in descending order of occurence?**"
      ]
    },
    {
      "cell_type": "code",
      "execution_count": 50,
      "metadata": {
        "id": "vl3SHZdty0j5"
      },
      "outputs": [
        {
          "data": {
            "text/plain": [
              "['ID',\n",
              " 'Case Number',\n",
              " 'Date',\n",
              " 'Block',\n",
              " 'IUCR',\n",
              " 'Primary Type',\n",
              " 'Description',\n",
              " 'Location Description',\n",
              " 'Arrest',\n",
              " 'Domestic',\n",
              " 'Beat',\n",
              " 'District',\n",
              " 'Ward',\n",
              " 'Community Area',\n",
              " 'FBI Code',\n",
              " 'X Coordinate',\n",
              " 'Y Coordinate',\n",
              " 'Year',\n",
              " 'Updated On',\n",
              " 'Latitude',\n",
              " 'Longitude',\n",
              " 'Location']"
            ]
          },
          "execution_count": 50,
          "metadata": {},
          "output_type": "execute_result"
        }
      ],
      "source": [
        "rc.columns"
      ]
    },
    {
      "cell_type": "code",
      "execution_count": 56,
      "metadata": {
        "id": "CwuOpT8Uy0j5"
      },
      "outputs": [
        {
          "name": "stderr",
          "output_type": "stream",
          "text": [
            "[Stage 36:======================================================> (29 + 1) / 30]\r"
          ]
        },
        {
          "name": "stdout",
          "output_type": "stream",
          "text": [
            "+-------------------+-------+\n",
            "|       Primary Type|  count|\n",
            "+-------------------+-------+\n",
            "|              THEFT|1418537|\n",
            "|            BATTERY|1232296|\n",
            "|    CRIMINAL DAMAGE| 771524|\n",
            "|          NARCOTICS| 711780|\n",
            "|      OTHER OFFENSE| 419050|\n",
            "|            ASSAULT| 418523|\n",
            "|           BURGLARY| 388040|\n",
            "|MOTOR VEHICLE THEFT| 314135|\n",
            "| DECEPTIVE PRACTICE| 267430|\n",
            "|            ROBBERY| 255603|\n",
            "+-------------------+-------+\n",
            "only showing top 10 rows\n",
            "\n"
          ]
        },
        {
          "name": "stderr",
          "output_type": "stream",
          "text": [
            "                                                                                \r"
          ]
        }
      ],
      "source": [
        "rc.groupBy('Primary Type').count().orderBy('count',ascending = False).show(10)"
      ]
    },
    {
      "cell_type": "markdown",
      "metadata": {
        "id": "9sDnyyzozVxA"
      },
      "source": [
        "## (03-06) Challenge"
      ]
    },
    {
      "cell_type": "markdown",
      "metadata": {
        "id": "OdV2UOUczVxA"
      },
      "source": [
        "**What percentage of reported crimes resulted in an arrest?**"
      ]
    },
    {
      "cell_type": "code",
      "execution_count": 59,
      "metadata": {
        "id": "rxCxcHFUzVxB"
      },
      "outputs": [
        {
          "name": "stdout",
          "output_type": "stream",
          "text": [
            "+--------+-----------+-------------------+------------------+----+--------------------+--------------------+--------------------+------+--------+----+--------+----+--------------+--------+------------+------------+----+--------------------+--------+---------+--------+\n",
            "|      ID|Case Number|               Date|             Block|IUCR|        Primary Type|         Description|Location Description|Arrest|Domestic|Beat|District|Ward|Community Area|FBI Code|X Coordinate|Y Coordinate|Year|          Updated On|Latitude|Longitude|Location|\n",
            "+--------+-----------+-------------------+------------------+----+--------------------+--------------------+--------------------+------+--------+----+--------+----+--------------+--------+------------+------------+----+--------------------+--------+---------+--------+\n",
            "| 5741943|   HN549294|2007-08-25 09:22:18|074XX N ROGERS AVE|0560|             ASSAULT|              SIMPLE|               OTHER| false|   false|2422|     024|  49|             1|     08A|        NULL|        NULL|2007|08/17/2015 03:03:...|    NULL|     NULL|    NULL|\n",
            "| 1930689|   HH109118|2002-01-05 21:24:00|    007XX E 103 ST|0820|               THEFT|      $500 AND UNDER|         GAS STATION|  true|   false|0512|     005|NULL|          NULL|      06|        NULL|        NULL|2002|02/04/2016 06:33:...|    NULL|     NULL|    NULL|\n",
            "|12416974|   JE293464|2011-08-10 00:01:00|   031XX W 53RD PL|1753|OFFENSE INVOLVING...|SEXUAL ASSAULT OF...|           RESIDENCE| false|    true|0923|     009|  14|            63|      02|        NULL|        NULL|2011|09/14/2023 03:41:...|    NULL|     NULL|    NULL|\n",
            "|12536164|   JE439378|2015-09-24 00:00:00|   031XX W 53RD PL|1753|OFFENSE INVOLVING...|SEXUAL ASSAULT OF...|           APARTMENT| false|    true|0923|     009|  14|            63|      02|        NULL|        NULL|2015|09/14/2023 03:41:...|    NULL|     NULL|    NULL|\n",
            "|12536166|   JE439332|2014-09-07 00:00:00|   031XX W 53RD PL|1753|OFFENSE INVOLVING...|SEXUAL ASSAULT OF...|           APARTMENT| false|    true|0923|     009|  14|            63|      02|        NULL|        NULL|2014|09/14/2023 03:41:...|    NULL|     NULL|    NULL|\n",
            "+--------+-----------+-------------------+------------------+----+--------------------+--------------------+--------------------+------+--------+----+--------+----+--------------+--------+------------+------------+----+--------------------+--------+---------+--------+\n",
            "only showing top 5 rows\n",
            "\n"
          ]
        }
      ],
      "source": [
        "rc.show(5)"
      ]
    },
    {
      "cell_type": "code",
      "execution_count": 60,
      "metadata": {
        "id": "_XguGvUFzVxB"
      },
      "outputs": [
        {
          "name": "stderr",
          "output_type": "stream",
          "text": [
            "[Stage 40:====================================================>   (28 + 2) / 30]\r"
          ]
        },
        {
          "name": "stdout",
          "output_type": "stream",
          "text": [
            "+------+-------+\n",
            "|Arrest|  count|\n",
            "+------+-------+\n",
            "| false|4881842|\n",
            "|  true|1875384|\n",
            "+------+-------+\n",
            "\n"
          ]
        },
        {
          "name": "stderr",
          "output_type": "stream",
          "text": [
            "                                                                                \r"
          ]
        }
      ],
      "source": [
        "rc.groupBy('Arrest').count().show()"
      ]
    },
    {
      "cell_type": "code",
      "execution_count": 65,
      "metadata": {
        "id": "7zazwi5jzVxB"
      },
      "outputs": [
        {
          "name": "stderr",
          "output_type": "stream",
          "text": [
            "                                                                                \r"
          ]
        },
        {
          "data": {
            "text/plain": [
              "27.75375575717018"
            ]
          },
          "execution_count": 65,
          "metadata": {},
          "output_type": "execute_result"
        }
      ],
      "source": [
        "rc.filter(col('Arrest') == 'true').count() / rc.select('Arrest').count()*100"
      ]
    },
    {
      "cell_type": "markdown",
      "metadata": {
        "id": "6etuZFwczVxB"
      },
      "source": [
        "  **What are the top 3 locations for reported crimes?**"
      ]
    },
    {
      "cell_type": "code",
      "execution_count": 61,
      "metadata": {
        "id": "05kJeui5zVxB"
      },
      "outputs": [
        {
          "name": "stderr",
          "output_type": "stream",
          "text": [
            "[Stage 43:====================================================>   (28 + 2) / 30]\r"
          ]
        },
        {
          "name": "stdout",
          "output_type": "stream",
          "text": [
            "+--------------------+-------+\n",
            "|Location Description|  count|\n",
            "+--------------------+-------+\n",
            "|              STREET|1770644|\n",
            "|           RESIDENCE|1146477|\n",
            "|           APARTMENT| 699355|\n",
            "+--------------------+-------+\n",
            "only showing top 3 rows\n",
            "\n"
          ]
        },
        {
          "name": "stderr",
          "output_type": "stream",
          "text": [
            "                                                                                \r"
          ]
        }
      ],
      "source": [
        "rc.groupBy('Location Description').count().orderBy('count',ascending = False).show(3)"
      ]
    },
    {
      "cell_type": "markdown",
      "metadata": {
        "id": "D7Dw2UpQ08-9"
      },
      "source": [
        "## (04-01) Built-in functions"
      ]
    },
    {
      "cell_type": "code",
      "execution_count": 66,
      "metadata": {
        "id": "8b9jy_g708--"
      },
      "outputs": [],
      "source": [
        "from pyspark.sql import functions"
      ]
    },
    {
      "cell_type": "code",
      "execution_count": 67,
      "metadata": {
        "id": "z7m60N3_08--"
      },
      "outputs": [
        {
          "name": "stdout",
          "output_type": "stream",
          "text": [
            "['Any', 'ArrayType', 'Callable', 'Column', 'DataFrame', 'DataType', 'Dict', 'Iterable', 'JVMView', 'List', 'Optional', 'PandasUDFType', 'PySparkTypeError', 'PySparkValueError', 'SparkContext', 'StringType', 'StructType', 'TYPE_CHECKING', 'Tuple', 'Type', 'Union', 'UserDefinedFunction', 'UserDefinedTableFunction', 'ValuesView', '__builtins__', '__cached__', '__doc__', '__file__', '__loader__', '__name__', '__package__', '__spec__', '_create_column_from_literal', '_create_lambda', '_create_py_udf', '_create_py_udtf', '_from_numpy_type', '_get_jvm_function', '_get_lambda_parameters', '_invoke_binary_math_function', '_invoke_function', '_invoke_function_over_columns', '_invoke_function_over_seq_of_columns', '_invoke_higher_order_function', '_options_to_str', '_test', '_to_java_column', '_to_seq', '_unresolved_named_lambda_variable', 'abs', 'acos', 'acosh', 'add_months', 'aes_decrypt', 'aes_encrypt', 'aggregate', 'any_value', 'approxCountDistinct', 'approx_count_distinct', 'approx_percentile', 'array', 'array_agg', 'array_append', 'array_compact', 'array_contains', 'array_distinct', 'array_except', 'array_insert', 'array_intersect', 'array_join', 'array_max', 'array_min', 'array_position', 'array_prepend', 'array_remove', 'array_repeat', 'array_size', 'array_sort', 'array_union', 'arrays_overlap', 'arrays_zip', 'asc', 'asc_nulls_first', 'asc_nulls_last', 'ascii', 'asin', 'asinh', 'assert_true', 'atan', 'atan2', 'atanh', 'avg', 'base64', 'bin', 'bit_and', 'bit_count', 'bit_get', 'bit_length', 'bit_or', 'bit_xor', 'bitmap_bit_position', 'bitmap_bucket_number', 'bitmap_construct_agg', 'bitmap_count', 'bitmap_or_agg', 'bitwiseNOT', 'bitwise_not', 'bool_and', 'bool_or', 'broadcast', 'bround', 'btrim', 'bucket', 'call_function', 'call_udf', 'cardinality', 'cast', 'cbrt', 'ceil', 'ceiling', 'char', 'char_length', 'character_length', 'coalesce', 'col', 'collect_list', 'collect_set', 'column', 'concat', 'concat_ws', 'contains', 'conv', 'convert_timezone', 'corr', 'cos', 'cosh', 'cot', 'count', 'countDistinct', 'count_distinct', 'count_if', 'count_min_sketch', 'covar_pop', 'covar_samp', 'crc32', 'create_map', 'csc', 'cume_dist', 'curdate', 'current_catalog', 'current_database', 'current_date', 'current_schema', 'current_timestamp', 'current_timezone', 'current_user', 'date_add', 'date_diff', 'date_format', 'date_from_unix_date', 'date_part', 'date_sub', 'date_trunc', 'dateadd', 'datediff', 'datepart', 'day', 'dayofmonth', 'dayofweek', 'dayofyear', 'days', 'decimal', 'decode', 'degrees', 'dense_rank', 'desc', 'desc_nulls_first', 'desc_nulls_last', 'e', 'element_at', 'elt', 'encode', 'endswith', 'equal_null', 'every', 'exists', 'exp', 'explode', 'explode_outer', 'expm1', 'expr', 'extract', 'factorial', 'filter', 'find_in_set', 'first', 'first_value', 'flatten', 'floor', 'forall', 'format_number', 'format_string', 'from_csv', 'from_json', 'from_unixtime', 'from_utc_timestamp', 'functools', 'get', 'get_active_spark_context', 'get_json_object', 'getbit', 'greatest', 'grouping', 'grouping_id', 'has_numpy', 'hash', 'hex', 'histogram_numeric', 'hll_sketch_agg', 'hll_sketch_estimate', 'hll_union', 'hll_union_agg', 'hour', 'hours', 'hypot', 'ifnull', 'ilike', 'initcap', 'inline', 'inline_outer', 'input_file_block_length', 'input_file_block_start', 'input_file_name', 'inspect', 'instr', 'isnan', 'isnotnull', 'isnull', 'java_method', 'json_array_length', 'json_object_keys', 'json_tuple', 'kurtosis', 'lag', 'last', 'last_day', 'last_value', 'lcase', 'lead', 'least', 'left', 'length', 'levenshtein', 'like', 'lit', 'ln', 'localtimestamp', 'locate', 'log', 'log10', 'log1p', 'log2', 'lower', 'lpad', 'ltrim', 'make_date', 'make_dt_interval', 'make_interval', 'make_timestamp', 'make_timestamp_ltz', 'make_timestamp_ntz', 'make_ym_interval', 'map_concat', 'map_contains_key', 'map_entries', 'map_filter', 'map_from_arrays', 'map_from_entries', 'map_keys', 'map_values', 'map_zip_with', 'mask', 'max', 'max_by', 'md5', 'mean', 'median', 'min', 'min_by', 'minute', 'mode', 'monotonically_increasing_id', 'month', 'months', 'months_between', 'named_struct', 'nanvl', 'negate', 'negative', 'next_day', 'now', 'nth_value', 'ntile', 'nullif', 'nvl', 'nvl2', 'octet_length', 'overlay', 'overload', 'pandas_udf', 'parse_url', 'percent_rank', 'percentile', 'percentile_approx', 'pi', 'pmod', 'posexplode', 'posexplode_outer', 'position', 'positive', 'pow', 'power', 'printf', 'product', 'quarter', 'radians', 'raise_error', 'rand', 'randn', 'rank', 'reduce', 'reflect', 'regexp', 'regexp_count', 'regexp_extract', 'regexp_extract_all', 'regexp_instr', 'regexp_like', 'regexp_replace', 'regexp_substr', 'regr_avgx', 'regr_avgy', 'regr_count', 'regr_intercept', 'regr_r2', 'regr_slope', 'regr_sxx', 'regr_sxy', 'regr_syy', 'repeat', 'replace', 'reverse', 'right', 'rint', 'rlike', 'round', 'row_number', 'rpad', 'rtrim', 'schema_of_csv', 'schema_of_json', 'sec', 'second', 'sentences', 'sequence', 'session_window', 'sha', 'sha1', 'sha2', 'shiftLeft', 'shiftRight', 'shiftRightUnsigned', 'shiftleft', 'shiftright', 'shiftrightunsigned', 'shuffle', 'sign', 'signum', 'sin', 'sinh', 'size', 'skewness', 'slice', 'some', 'sort_array', 'soundex', 'spark_partition_id', 'split', 'split_part', 'sqrt', 'stack', 'startswith', 'std', 'stddev', 'stddev_pop', 'stddev_samp', 'str_to_map', 'struct', 'substr', 'substring', 'substring_index', 'sum', 'sumDistinct', 'sum_distinct', 'sys', 'tan', 'tanh', 'timestamp_micros', 'timestamp_millis', 'timestamp_seconds', 'toDegrees', 'toRadians', 'to_binary', 'to_char', 'to_csv', 'to_date', 'to_json', 'to_number', 'to_str', 'to_timestamp', 'to_timestamp_ltz', 'to_timestamp_ntz', 'to_unix_timestamp', 'to_utc_timestamp', 'to_varchar', 'transform', 'transform_keys', 'transform_values', 'translate', 'trim', 'trunc', 'try_add', 'try_aes_decrypt', 'try_avg', 'try_divide', 'try_element_at', 'try_multiply', 'try_remote_functions', 'try_subtract', 'try_sum', 'try_to_binary', 'try_to_number', 'try_to_timestamp', 'typeof', 'ucase', 'udf', 'udtf', 'unbase64', 'unhex', 'unix_date', 'unix_micros', 'unix_millis', 'unix_seconds', 'unix_timestamp', 'unwrap_udt', 'upper', 'url_decode', 'url_encode', 'user', 'var_pop', 'var_samp', 'variance', 'version', 'warnings', 'weekday', 'weekofyear', 'when', 'width_bucket', 'window', 'window_time', 'xpath', 'xpath_boolean', 'xpath_double', 'xpath_float', 'xpath_int', 'xpath_long', 'xpath_number', 'xpath_short', 'xpath_string', 'xxhash64', 'year', 'years', 'zip_with']\n"
          ]
        }
      ],
      "source": [
        "print(dir(functions))"
      ]
    },
    {
      "cell_type": "markdown",
      "metadata": {
        "id": "1yL-b-swunTM"
      },
      "source": [
        "### String functions"
      ]
    },
    {
      "cell_type": "markdown",
      "metadata": {
        "id": "rHp9A7wyp1L4"
      },
      "source": [
        "**Display the Primary Type column in lower and upper characters, and the first 4 characters of the column**"
      ]
    },
    {
      "cell_type": "code",
      "execution_count": 77,
      "metadata": {
        "id": "4HNqGQKCqE9K"
      },
      "outputs": [
        {
          "name": "stdout",
          "output_type": "stream",
          "text": [
            "+--------------------+\n",
            "| lower(Primary Type)|\n",
            "+--------------------+\n",
            "|             assault|\n",
            "|               theft|\n",
            "|offense involving...|\n",
            "|offense involving...|\n",
            "|offense involving...|\n",
            "|criminal sexual a...|\n",
            "|offense involving...|\n",
            "|             robbery|\n",
            "|offense involving...|\n",
            "|offense involving...|\n",
            "|  deceptive practice|\n",
            "|  deceptive practice|\n",
            "|               theft|\n",
            "|               theft|\n",
            "|  deceptive practice|\n",
            "|  deceptive practice|\n",
            "|             assault|\n",
            "|offense involving...|\n",
            "|offense involving...|\n",
            "|offense involving...|\n",
            "+--------------------+\n",
            "only showing top 20 rows\n",
            "\n"
          ]
        }
      ],
      "source": [
        "from pyspark.sql.functions import lower,upper,substring\n",
        "rc.select(lower('Primary Type')).show()"
      ]
    },
    {
      "cell_type": "code",
      "execution_count": 71,
      "metadata": {
        "id": "BgwSt2ta08--"
      },
      "outputs": [
        {
          "name": "stdout",
          "output_type": "stream",
          "text": [
            "+--------------------+\n",
            "| upper(Primary Type)|\n",
            "+--------------------+\n",
            "|             ASSAULT|\n",
            "|               THEFT|\n",
            "|OFFENSE INVOLVING...|\n",
            "|OFFENSE INVOLVING...|\n",
            "|OFFENSE INVOLVING...|\n",
            "|CRIMINAL SEXUAL A...|\n",
            "|OFFENSE INVOLVING...|\n",
            "|             ROBBERY|\n",
            "|OFFENSE INVOLVING...|\n",
            "|OFFENSE INVOLVING...|\n",
            "|  DECEPTIVE PRACTICE|\n",
            "|  DECEPTIVE PRACTICE|\n",
            "|               THEFT|\n",
            "|               THEFT|\n",
            "|  DECEPTIVE PRACTICE|\n",
            "|  DECEPTIVE PRACTICE|\n",
            "|             ASSAULT|\n",
            "|OFFENSE INVOLVING...|\n",
            "|OFFENSE INVOLVING...|\n",
            "|OFFENSE INVOLVING...|\n",
            "+--------------------+\n",
            "only showing top 20 rows\n",
            "\n"
          ]
        }
      ],
      "source": [
        "rc.select(upper('Primary Type')).show()"
      ]
    },
    {
      "cell_type": "code",
      "execution_count": 81,
      "metadata": {},
      "outputs": [
        {
          "name": "stdout",
          "output_type": "stream",
          "text": [
            "+--------------------+------------------------------------+\n",
            "|        Primary Type|substring(lower(Primary Type), 1, 4)|\n",
            "+--------------------+------------------------------------+\n",
            "|             ASSAULT|                                assa|\n",
            "|               THEFT|                                thef|\n",
            "|OFFENSE INVOLVING...|                                offe|\n",
            "|OFFENSE INVOLVING...|                                offe|\n",
            "|OFFENSE INVOLVING...|                                offe|\n",
            "|CRIMINAL SEXUAL A...|                                crim|\n",
            "|OFFENSE INVOLVING...|                                offe|\n",
            "|             ROBBERY|                                robb|\n",
            "|OFFENSE INVOLVING...|                                offe|\n",
            "|OFFENSE INVOLVING...|                                offe|\n",
            "|  DECEPTIVE PRACTICE|                                dece|\n",
            "|  DECEPTIVE PRACTICE|                                dece|\n",
            "|               THEFT|                                thef|\n",
            "|               THEFT|                                thef|\n",
            "|  DECEPTIVE PRACTICE|                                dece|\n",
            "|  DECEPTIVE PRACTICE|                                dece|\n",
            "|             ASSAULT|                                assa|\n",
            "|OFFENSE INVOLVING...|                                offe|\n",
            "|OFFENSE INVOLVING...|                                offe|\n",
            "|OFFENSE INVOLVING...|                                offe|\n",
            "+--------------------+------------------------------------+\n",
            "only showing top 20 rows\n",
            "\n"
          ]
        }
      ],
      "source": [
        "rc.select('Primary Type',substring(lower('Primary Type'),1,4)).show()"
      ]
    },
    {
      "cell_type": "markdown",
      "metadata": {
        "id": "ZYDsLbbrf6dK"
      },
      "source": [
        "### Numeric functions\n"
      ]
    },
    {
      "cell_type": "markdown",
      "metadata": {
        "id": "H5CZwvAwhpCx"
      },
      "source": [
        "**Show the oldest date and the most recent date**"
      ]
    },
    {
      "cell_type": "code",
      "execution_count": 82,
      "metadata": {
        "id": "oP8NWAiUuSJC"
      },
      "outputs": [],
      "source": [
        "from pyspark.sql.functions import min,max"
      ]
    },
    {
      "cell_type": "code",
      "execution_count": 85,
      "metadata": {
        "id": "juNQDv2108-_"
      },
      "outputs": [
        {
          "name": "stderr",
          "output_type": "stream",
          "text": [
            "                                                                                \r"
          ]
        },
        {
          "name": "stdout",
          "output_type": "stream",
          "text": [
            "+-------------------+\n",
            "|          max(Date)|\n",
            "+-------------------+\n",
            "|2018-11-12 00:00:00|\n",
            "+-------------------+\n",
            "\n"
          ]
        },
        {
          "name": "stderr",
          "output_type": "stream",
          "text": [
            "[Stage 76:======================================================> (29 + 1) / 30]\r"
          ]
        },
        {
          "name": "stdout",
          "output_type": "stream",
          "text": [
            "+-------------------+\n",
            "|          min(Date)|\n",
            "+-------------------+\n",
            "|2001-01-01 00:00:00|\n",
            "+-------------------+\n",
            "\n"
          ]
        },
        {
          "name": "stderr",
          "output_type": "stream",
          "text": [
            "                                                                                \r"
          ]
        }
      ],
      "source": [
        "rc.select(max('Date')).show()\n",
        "rc.select(min('Date')).show()"
      ]
    },
    {
      "cell_type": "markdown",
      "metadata": {
        "id": "4BJvThINk7o-"
      },
      "source": [
        "### Date"
      ]
    },
    {
      "cell_type": "markdown",
      "metadata": {
        "id": "Qjh1t1XamJ-E"
      },
      "source": [
        "**What is 3 days earlier that the oldest date and 3 days later than the most recent date?**"
      ]
    },
    {
      "cell_type": "code",
      "execution_count": 88,
      "metadata": {
        "id": "NMFcA4rhlOs3"
      },
      "outputs": [
        {
          "name": "stderr",
          "output_type": "stream",
          "text": [
            "[Stage 82:======================================================> (29 + 1) / 30]\r"
          ]
        },
        {
          "name": "stdout",
          "output_type": "stream",
          "text": [
            "+----------------------+----------------------+\n",
            "|date_add(max(Date), 3)|date_sub(min(Date), 3)|\n",
            "+----------------------+----------------------+\n",
            "|            2018-11-15|            2000-12-29|\n",
            "+----------------------+----------------------+\n",
            "\n"
          ]
        },
        {
          "name": "stderr",
          "output_type": "stream",
          "text": [
            "                                                                                \r"
          ]
        }
      ],
      "source": [
        "from pyspark.sql.functions import date_add,date_sub\n",
        "rc.select(date_add(max('Date'),3),date_sub(min('Date'),3)).show()"
      ]
    },
    {
      "cell_type": "markdown",
      "metadata": {
        "id": "hiKFyArf14B0"
      },
      "source": [
        "## (04-02) Working with dates"
      ]
    },
    {
      "cell_type": "code",
      "execution_count": 91,
      "metadata": {
        "id": "9npwvNTx1SCj"
      },
      "outputs": [],
      "source": [
        "from pyspark.sql.functions import to_timestamp,to_date,lit"
      ]
    },
    {
      "cell_type": "markdown",
      "metadata": {
        "id": "WkUMZnY5yc6q"
      },
      "source": [
        "  **2019-12-25 13:30:00**"
      ]
    },
    {
      "cell_type": "code",
      "execution_count": 95,
      "metadata": {
        "id": "vvFFnqmQ14B0"
      },
      "outputs": [
        {
          "name": "stderr",
          "output_type": "stream",
          "text": [
            "                                                                                \r"
          ]
        },
        {
          "name": "stdout",
          "output_type": "stream",
          "text": [
            "+-------------------+\n",
            "|          Christmas|\n",
            "+-------------------+\n",
            "|2019-12-25 13:30:00|\n",
            "+-------------------+\n",
            "\n"
          ]
        }
      ],
      "source": [
        "df = spark.createDataFrame([('2019-12-25 13:30:00',)],['Christmas'])\n",
        "df.show()"
      ]
    },
    {
      "cell_type": "code",
      "execution_count": 98,
      "metadata": {
        "id": "YbSNtcMSQAiH"
      },
      "outputs": [
        {
          "name": "stdout",
          "output_type": "stream",
          "text": [
            "+---------------------------------------+--------------------------------------------+\n",
            "|to_date(Christmas, yyyy-MM-dd HH:mm:ss)|to_timestamp(Christmas, yyyy-MM-dd HH:mm:ss)|\n",
            "+---------------------------------------+--------------------------------------------+\n",
            "|                             2019-12-25|                         2019-12-25 13:30:00|\n",
            "+---------------------------------------+--------------------------------------------+\n",
            "\n"
          ]
        }
      ],
      "source": [
        "df.select(to_date(col('Christmas'),'yyyy-MM-dd HH:mm:ss'),to_timestamp(col('Christmas'),'yyyy-MM-dd HH:mm:ss')).show()"
      ]
    },
    {
      "cell_type": "markdown",
      "metadata": {
        "id": "r57RvNLFy1qr"
      },
      "source": [
        "**25/Dec/2019 13:30:00**"
      ]
    },
    {
      "cell_type": "code",
      "execution_count": 99,
      "metadata": {
        "id": "qWSM7QZIy1O7"
      },
      "outputs": [
        {
          "name": "stdout",
          "output_type": "stream",
          "text": [
            "+--------------------+\n",
            "|           Christmas|\n",
            "+--------------------+\n",
            "|25/Dec/2019 13:30:00|\n",
            "+--------------------+\n",
            "\n"
          ]
        }
      ],
      "source": [
        "\n",
        "df = spark.createDataFrame([('25/Dec/2019 13:30:00',)],['Christmas'])\n",
        "df.show()"
      ]
    },
    {
      "cell_type": "code",
      "execution_count": 101,
      "metadata": {
        "id": "_Bth-66Zy_na"
      },
      "outputs": [
        {
          "name": "stdout",
          "output_type": "stream",
          "text": [
            "+----------------------------------------+---------------------------------------------+\n",
            "|to_date(Christmas, dd/MMM/yyyy HH:mm:ss)|to_timestamp(Christmas, dd/MMM/yyyy HH:mm:ss)|\n",
            "+----------------------------------------+---------------------------------------------+\n",
            "|                              2019-12-25|                          2019-12-25 13:30:00|\n",
            "+----------------------------------------+---------------------------------------------+\n",
            "\n"
          ]
        }
      ],
      "source": [
        "df.select(to_date(col('Christmas'),'dd/MMM/yyyy HH:mm:ss'),to_timestamp(col('Christmas'),'dd/MMM/yyyy HH:mm:ss')).show()"
      ]
    },
    {
      "cell_type": "markdown",
      "metadata": {
        "id": "4DcjnoaKzBQr"
      },
      "source": [
        "**12/25/2019 01:30:00 PM**"
      ]
    },
    {
      "cell_type": "code",
      "execution_count": 106,
      "metadata": {
        "id": "WldJB29T80O2"
      },
      "outputs": [
        {
          "name": "stdout",
          "output_type": "stream",
          "text": [
            "+----------------------+\n",
            "|Christmas             |\n",
            "+----------------------+\n",
            "|12/25/2019 01:30:00 PM|\n",
            "+----------------------+\n",
            "\n"
          ]
        }
      ],
      "source": [
        "df = spark.createDataFrame([('12/25/2019 01:30:00 PM',)],['Christmas'])\n",
        "df.show(truncate=False)"
      ]
    },
    {
      "cell_type": "code",
      "execution_count": 108,
      "metadata": {
        "id": "SqOg9qzQRAbi"
      },
      "outputs": [
        {
          "name": "stderr",
          "output_type": "stream",
          "text": [
            "                                                                                \r"
          ]
        },
        {
          "name": "stdout",
          "output_type": "stream",
          "text": [
            "+-----------------------------------------+----------------------------------------------+\n",
            "|to_date(Christmas, MM/dd/yyyy hh:mm:ss a)|to_timestamp(Christmas, MM/dd/yyyy hh:mm:ss a)|\n",
            "+-----------------------------------------+----------------------------------------------+\n",
            "|                               2019-12-25|                           2019-12-25 13:30:00|\n",
            "+-----------------------------------------+----------------------------------------------+\n",
            "\n"
          ]
        }
      ],
      "source": [
        "df.select(to_date(col('Christmas'),'MM/dd/yyyy hh:mm:ss a'),to_timestamp(col('Christmas'),'MM/dd/yyyy hh:mm:ss a')).show()"
      ]
    },
    {
      "cell_type": "code",
      "execution_count": 110,
      "metadata": {
        "id": "6SwZtjvL2Ugj"
      },
      "outputs": [
        {
          "name": "stdout",
          "output_type": "stream",
          "text": [
            "+--------+-----------+----------------------+-------------------------+----+------------+-------------------------------------------------------+--------------------+------+--------+----+--------+----+--------------+--------+------------+------------+----+----------------------+------------+-------------+-----------------------------+\n",
            "|ID      |Case Number|Date                  |Block                    |IUCR|Primary Type|Description                                            |Location Description|Arrest|Domestic|Beat|District|Ward|Community Area|FBI Code|X Coordinate|Y Coordinate|Year|Updated On            |Latitude    |Longitude    |Location                     |\n",
            "+--------+-----------+----------------------+-------------------------+----+------------+-------------------------------------------------------+--------------------+------+--------+----+--------+----+--------------+--------+------------+------------+----+----------------------+------------+-------------+-----------------------------+\n",
            "|5741943 |HN549294   |08/25/2007 09:22:18 AM|074XX N ROGERS AVE       |0560|ASSAULT     |SIMPLE                                                 |OTHER               |false |false   |2422|024     |49  |1             |08A     |NULL        |NULL        |2007|08/17/2015 03:03:40 PM|NULL        |NULL         |NULL                         |\n",
            "|25953   |JE240540   |05/24/2021 03:06:00 PM|020XX N LARAMIE AVE      |0110|HOMICIDE    |FIRST DEGREE MURDER                                    |STREET              |true  |false   |2515|025     |36  |19            |01A     |1141387     |1913179     |2021|11/18/2023 03:39:49 PM|41.917838056|-87.755968972|(41.917838056, -87.755968972)|\n",
            "|26038   |JE279849   |06/26/2021 09:24:00 AM|062XX N MC CORMICK RD    |0110|HOMICIDE    |FIRST DEGREE MURDER                                    |PARKING LOT         |true  |false   |1711|017     |50  |13            |01A     |1152781     |1941458     |2021|11/18/2023 03:39:49 PM|41.995219444|-87.713354912|(41.995219444, -87.713354912)|\n",
            "|13279676|JG507211   |11/09/2023 07:30:00 AM|019XX W BYRON ST         |0620|BURGLARY    |UNLAWFUL ENTRY                                         |APARTMENT           |false |false   |1922|019     |47  |5             |05      |1162518     |1925906     |2023|11/18/2023 03:39:49 PM|41.952345086|-87.677975059|(41.952345086, -87.677975059)|\n",
            "|13274752|JG501049   |11/12/2023 07:59:00 AM|086XX S COTTAGE GROVE AVE|0454|BATTERY     |AGGRAVATED P.O. - HANDS, FISTS, FEET, NO / MINOR INJURY|SMALL RETAIL STORE  |true  |false   |0632|006     |6   |44            |08B     |1183071     |1847869     |2023|12/09/2023 03:41:24 PM|41.737750767|-87.604855911|(41.737750767, -87.604855911)|\n",
            "+--------+-----------+----------------------+-------------------------+----+------------+-------------------------------------------------------+--------------------+------+--------+----+--------+----+--------------+--------+------------+------------+----+----------------------+------------+-------------+-----------------------------+\n",
            "only showing top 5 rows\n",
            "\n"
          ]
        }
      ],
      "source": [
        "nrc = spark.read.csv('reported-crimes.csv',header = True)\n",
        "nrc.show(5,truncate=False)"
      ]
    },
    {
      "cell_type": "markdown",
      "metadata": {
        "id": "9lAyzg282V_4"
      },
      "source": [
        "## (04-03) Joins"
      ]
    },
    {
      "cell_type": "markdown",
      "metadata": {
        "id": "5klVM9jJZBDl"
      },
      "source": [
        "**Download police station data**"
      ]
    },
    {
      "cell_type": "code",
      "execution_count": 113,
      "metadata": {
        "id": "c7CFhY3K2V_5"
      },
      "outputs": [
        {
          "name": "stdout",
          "output_type": "stream",
          "text": [
            "total 3751888\n",
            "-rw-r--r--  1 pranavchoudhary  staff       83668 Aug 16 19:07 Apache_PySpark_by_Example.ipynb\n",
            "-rw-r--r--  1 pranavchoudhary  staff         635 Aug 15 13:00 CONTRIBUTING.md\n",
            "-rw-r--r--  1 pranavchoudhary  staff        6648 Aug 15 13:00 LICENSE\n",
            "-rw-r--r--  1 pranavchoudhary  staff         617 Aug 15 13:00 NOTICE\n",
            "-rw-r--r--@ 1 pranavchoudhary  staff        5699 Aug 17 10:29 Police_Stations_20240817.csv\n",
            "-rw-r--r--  1 pranavchoudhary  staff        1218 Aug 15 13:00 README.md\n",
            "-rw-r--r--@ 1 pranavchoudhary  staff  1920848630 Aug 16 17:02 reported-crimes.csv\n"
          ]
        }
      ],
      "source": [
        "%ls -l"
      ]
    },
    {
      "cell_type": "code",
      "execution_count": 123,
      "metadata": {
        "id": "R47fcwV82V_5"
      },
      "outputs": [
        {
          "name": "stdout",
          "output_type": "stream",
          "text": [
            "+------------+-------------+-------------------+-------+-----+-----+----------------------------------------------------------------------------+------------+------------+------------+------------+------------+-----------+------------+-------------------------------+\n",
            "|DISTRICT    |DISTRICT NAME|ADDRESS            |CITY   |STATE|ZIP  |WEBSITE                                                                     |PHONE       |FAX         |TTY         |X COORDINATE|Y COORDINATE|LATITUDE   |LONGITUDE   |LOCATION                       |\n",
            "+------------+-------------+-------------------+-------+-----+-----+----------------------------------------------------------------------------+------------+------------+------------+------------+------------+-----------+------------+-------------------------------+\n",
            "|Headquarters|Headquarters |3510 S Michigan Ave|Chicago|IL   |60653|http://home.chicagopolice.org                                               |NULL        |NULL        |NULL        |1177731.401 |1881697.404 |41.83070169|-87.62339535|(41.8307016873, -87.6233953459)|\n",
            "|18          |Near North   |1160 N Larrabee St |Chicago|IL   |60610|http://home.chicagopolice.org/community/districts/18th-district-near-north/ |312-742-5870|312-742-5771|312-742-5773|1172080.029 |1908086.527 |41.90324165|-87.64335214|(41.9032416531, -87.6433521393)|\n",
            "|19          |Town Hall    |850 W Addison St   |Chicago|IL   |60613|http://home.chicagopolice.org/community/districts/19th-district-town-hall/  |312-744-8320|312-744-4481|312-744-8011|1169730.744 |1924160.317 |41.94740046|-87.65151202|(41.9474004564, -87.651512018) |\n",
            "|20          |Lincoln      |5400 N Lincoln Ave |Chicago|IL   |60625|http://home.chicagopolice.org/community/districts/20th-district-lincoln/    |312-742-8714|312-742-8803|312-742-8841|1158399.146 |1935788.826 |41.97954951|-87.69284451|(41.9795495131, -87.6928445094)|\n",
            "|22          |Morgan Park  |1900 W Monterey Ave|Chicago|IL   |60643|http://home.chicagopolice.org/community/districts/22nd-district-morgan-park/|312-745-0710|312-745-0814|312-745-0569|1165825.476 |1830851.333 |41.69143478|-87.66852039|(41.6914347795, -87.6685203937)|\n",
            "+------------+-------------+-------------------+-------+-----+-----+----------------------------------------------------------------------------+------------+------------+------------+------------+------------+-----------+------------+-------------------------------+\n",
            "only showing top 5 rows\n",
            "\n"
          ]
        }
      ],
      "source": [
        "ps = spark.read.csv('police-stations.csv',header=True)\n",
        "ps.show(5,truncate=False)"
      ]
    },
    {
      "cell_type": "markdown",
      "metadata": {
        "id": "CdBqB9Oiw0gV"
      },
      "source": [
        "**The reported crimes dataset has only the district number. Add the district name by joining with the police station dataset**"
      ]
    },
    {
      "cell_type": "code",
      "execution_count": 124,
      "metadata": {
        "id": "S84o4-yZ2V_5"
      },
      "outputs": [
        {
          "name": "stdout",
          "output_type": "stream",
          "text": [
            "+--------+-----------+-------------------+------------------+----+--------------------+--------------------+--------------------+------+--------+----+--------+----+--------------+--------+------------+------------+----+--------------------+--------+---------+--------+\n",
            "|      ID|Case Number|               Date|             Block|IUCR|        Primary Type|         Description|Location Description|Arrest|Domestic|Beat|District|Ward|Community Area|FBI Code|X Coordinate|Y Coordinate|Year|          Updated On|Latitude|Longitude|Location|\n",
            "+--------+-----------+-------------------+------------------+----+--------------------+--------------------+--------------------+------+--------+----+--------+----+--------------+--------+------------+------------+----+--------------------+--------+---------+--------+\n",
            "| 5741943|   HN549294|2007-08-25 09:22:18|074XX N ROGERS AVE|0560|             ASSAULT|              SIMPLE|               OTHER| false|   false|2422|     024|  49|             1|     08A|        NULL|        NULL|2007|08/17/2015 03:03:...|    NULL|     NULL|    NULL|\n",
            "| 1930689|   HH109118|2002-01-05 21:24:00|    007XX E 103 ST|0820|               THEFT|      $500 AND UNDER|         GAS STATION|  true|   false|0512|     005|NULL|          NULL|      06|        NULL|        NULL|2002|02/04/2016 06:33:...|    NULL|     NULL|    NULL|\n",
            "|12416974|   JE293464|2011-08-10 00:01:00|   031XX W 53RD PL|1753|OFFENSE INVOLVING...|SEXUAL ASSAULT OF...|           RESIDENCE| false|    true|0923|     009|  14|            63|      02|        NULL|        NULL|2011|09/14/2023 03:41:...|    NULL|     NULL|    NULL|\n",
            "|12536164|   JE439378|2015-09-24 00:00:00|   031XX W 53RD PL|1753|OFFENSE INVOLVING...|SEXUAL ASSAULT OF...|           APARTMENT| false|    true|0923|     009|  14|            63|      02|        NULL|        NULL|2015|09/14/2023 03:41:...|    NULL|     NULL|    NULL|\n",
            "|12536166|   JE439332|2014-09-07 00:00:00|   031XX W 53RD PL|1753|OFFENSE INVOLVING...|SEXUAL ASSAULT OF...|           APARTMENT| false|    true|0923|     009|  14|            63|      02|        NULL|        NULL|2014|09/14/2023 03:41:...|    NULL|     NULL|    NULL|\n",
            "+--------+-----------+-------------------+------------------+----+--------------------+--------------------+--------------------+------+--------+----+--------+----+--------------+--------+------------+------------+----+--------------------+--------+---------+--------+\n",
            "only showing top 5 rows\n",
            "\n"
          ]
        }
      ],
      "source": [
        "rc.show(5)"
      ]
    },
    {
      "cell_type": "code",
      "execution_count": 143,
      "metadata": {},
      "outputs": [
        {
          "data": {
            "text/plain": [
              "DataFrame[ID: string, Case Number: string, Date: timestamp, Block: string, IUCR: string, Primary Type: string, Description: string, Location Description: string, Arrest: string, Domestic: string, Beat: string, District: string, Ward: string, Community Area: string, FBI Code: string, X Coordinate: string, Y Coordinate: string, Year: string, Updated On: string, Latitude: string, Longitude: string, Location: string]"
            ]
          },
          "execution_count": 143,
          "metadata": {},
          "output_type": "execute_result"
        }
      ],
      "source": [
        "rc.unpersist()"
      ]
    },
    {
      "cell_type": "code",
      "execution_count": 141,
      "metadata": {},
      "outputs": [],
      "source": [
        "spark.catalog.clearCache()"
      ]
    },
    {
      "cell_type": "code",
      "execution_count": 145,
      "metadata": {
        "id": "V06UpJ4Tc7oJ"
      },
      "outputs": [
        {
          "name": "stderr",
          "output_type": "stream",
          "text": [
            "                                                                                \r"
          ]
        },
        {
          "name": "stdout",
          "output_type": "stream",
          "text": [
            "+--------------------+\n",
            "|            District|\n",
            "+--------------------+\n",
            "|                   7|\n",
            "|                  15|\n",
            "|                  11|\n",
            "|                   3|\n",
            "|                   8|\n",
            "|                  22|\n",
            "|                  16|\n",
            "|                   5|\n",
            "|                  18|\n",
            "|                  17|\n",
            "|                   6|\n",
            "|                  19|\n",
            "|                  25|\n",
            "|        Headquarters|\n",
            "|                  24|\n",
            "|                   9|\n",
            "|                   1|\n",
            "|                  20|\n",
            "|                  10|\n",
            "|                   4|\n",
            "|                  12|\n",
            "|                  14|\n",
            "|                   2|\n",
            "|\",Chicago,IL,6060...|\n",
            "+--------------------+\n",
            "\n"
          ]
        },
        {
          "name": "stderr",
          "output_type": "stream",
          "text": [
            "                                                                                \r"
          ]
        }
      ],
      "source": [
        "ps.select('District').distinct().show(30)"
      ]
    },
    {
      "cell_type": "code",
      "execution_count": 150,
      "metadata": {
        "id": "S_YiRfSgc7em"
      },
      "outputs": [
        {
          "data": {
            "text/plain": [
              "10"
            ]
          },
          "execution_count": 150,
          "metadata": {},
          "output_type": "execute_result"
        }
      ],
      "source": [
        "import gc\n",
        "\n",
        "# Unpersist the DataFrame if necessary\n",
        "# rc.unpersist()\n",
        "\n",
        "# # Delete the reference\n",
        "# del rc\n",
        "\n",
        "# # Force garbage collection\n",
        "gc.collect()\n"
      ]
    },
    {
      "cell_type": "code",
      "execution_count": 158,
      "metadata": {
        "id": "nWQMpWQec7SO"
      },
      "outputs": [
        {
          "name": "stdout",
          "output_type": "stream",
          "text": [
            "Available Memory on Driver: 2.66 GB\n"
          ]
        }
      ],
      "source": [
        "import psutil\n",
        "from pyspark.sql import SparkSession\n",
        "\n",
        "# Initialize Spark Session\n",
        "spark = SparkSession.builder.appName(\"Memory Check\").getOrCreate()\n",
        "\n",
        "# Check the free memory on the driver node\n",
        "memory_info = psutil.virtual_memory()\n",
        "available_memory_gb = memory_info.available / (1024 ** 3)\n",
        "\n",
        "print(f\"Available Memory on Driver: {available_memory_gb:.2f} GB\")\n"
      ]
    },
    {
      "cell_type": "code",
      "execution_count": 159,
      "metadata": {
        "id": "n4eBu-vMc6bN"
      },
      "outputs": [],
      "source": [
        "spark.catalog.clearCache()"
      ]
    },
    {
      "cell_type": "code",
      "execution_count": 160,
      "metadata": {
        "id": "8CR9XUeCc6Tn"
      },
      "outputs": [
        {
          "name": "stdout",
          "output_type": "stream",
          "text": [
            "+--------------------+\n",
            "|            District|\n",
            "+--------------------+\n",
            "|                   7|\n",
            "|                  15|\n",
            "|                  11|\n",
            "|                   3|\n",
            "|                   8|\n",
            "|                  22|\n",
            "|                  16|\n",
            "|                   5|\n",
            "|                  18|\n",
            "|                  17|\n",
            "|                   6|\n",
            "|                  19|\n",
            "|                  25|\n",
            "|        Headquarters|\n",
            "|                  24|\n",
            "|                   9|\n",
            "|                   1|\n",
            "|                  20|\n",
            "|                  10|\n",
            "|                   4|\n",
            "|                  12|\n",
            "|                  14|\n",
            "|                   2|\n",
            "|\",Chicago,IL,6060...|\n",
            "+--------------------+\n",
            "\n"
          ]
        },
        {
          "name": "stderr",
          "output_type": "stream",
          "text": [
            "[Stage 132:===============================================>       (13 + 2) / 15]\r"
          ]
        },
        {
          "name": "stdout",
          "output_type": "stream",
          "text": [
            "+--------+\n",
            "|District|\n",
            "+--------+\n",
            "|     009|\n",
            "|     012|\n",
            "|     024|\n",
            "|     031|\n",
            "|     015|\n",
            "|     006|\n",
            "|     019|\n",
            "|     020|\n",
            "|     011|\n",
            "|     025|\n",
            "|     005|\n",
            "|     003|\n",
            "|     016|\n",
            "|     018|\n",
            "|     008|\n",
            "|     022|\n",
            "|     001|\n",
            "|     014|\n",
            "|     010|\n",
            "|     004|\n",
            "|     017|\n",
            "|     007|\n",
            "|     002|\n",
            "|     021|\n",
            "|    NULL|\n",
            "+--------+\n",
            "\n"
          ]
        },
        {
          "name": "stderr",
          "output_type": "stream",
          "text": [
            "                                                                                \r"
          ]
        }
      ],
      "source": [
        "ps.select('District').distinct().show(30,truncate=False)\n"
      ]
    },
    {
      "cell_type": "code",
      "execution_count": 3,
      "metadata": {},
      "outputs": [
        {
          "ename": "NameError",
          "evalue": "name 'rc' is not defined",
          "output_type": "error",
          "traceback": [
            "\u001b[0;31m---------------------------------------------------------------------------\u001b[0m",
            "\u001b[0;31mNameError\u001b[0m                                 Traceback (most recent call last)",
            "Cell \u001b[0;32mIn[3], line 1\u001b[0m\n\u001b[0;32m----> 1\u001b[0m \u001b[43mrc\u001b[49m\u001b[38;5;241m.\u001b[39mselect(\u001b[38;5;124m'\u001b[39m\u001b[38;5;124mFormat District\u001b[39m\u001b[38;5;124m'\u001b[39m)\u001b[38;5;241m.\u001b[39mdistinct()\u001b[38;5;241m.\u001b[39mshow(\u001b[38;5;241m30\u001b[39m,truncate\u001b[38;5;241m=\u001b[39m\u001b[38;5;28;01mFalse\u001b[39;00m)\n",
            "\u001b[0;31mNameError\u001b[0m: name 'rc' is not defined"
          ]
        }
      ],
      "source": [
        "rc.select('Format District').distinct().show(30,truncate=False)"
      ]
    },
    {
      "cell_type": "code",
      "execution_count": 161,
      "metadata": {
        "id": "PxL3DKpPc6KG"
      },
      "outputs": [],
      "source": [
        "from pyspark.sql.functions import lpad"
      ]
    },
    {
      "cell_type": "code",
      "execution_count": 163,
      "metadata": {
        "id": "WtFqwWp73ARQ"
      },
      "outputs": [
        {
          "name": "stdout",
          "output_type": "stream",
          "text": [
            "+--------------------+\n",
            "|lpad(District, 3, 0)|\n",
            "+--------------------+\n",
            "|                 Hea|\n",
            "|                 018|\n",
            "|                 019|\n",
            "|                 020|\n",
            "|                 022|\n",
            "|                 024|\n",
            "|                 025|\n",
            "|                 001|\n",
            "|                 002|\n",
            "|                 003|\n",
            "|                 004|\n",
            "|                 005|\n",
            "|                 006|\n",
            "|                 007|\n",
            "|                 008|\n",
            "|                 009|\n",
            "|                 010|\n",
            "|                 011|\n",
            "|                 012|\n",
            "|                 \",C|\n",
            "|                 014|\n",
            "|                 015|\n",
            "|                 016|\n",
            "|                 017|\n",
            "+--------------------+\n",
            "\n"
          ]
        }
      ],
      "source": [
        "ps.select(lpad(col('District'),3,'0')).show(30)"
      ]
    },
    {
      "cell_type": "code",
      "execution_count": null,
      "metadata": {},
      "outputs": [
        {
          "name": "stdout",
          "output_type": "stream",
          "text": [
            "+------------+-------------+-------------------+-------+-----+-----+--------------------+------------+------------+------------+------------+------------+-----------+------------+--------------------+---------------+\n",
            "|    DISTRICT|DISTRICT NAME|            ADDRESS|   CITY|STATE|  ZIP|             WEBSITE|       PHONE|         FAX|         TTY|X COORDINATE|Y COORDINATE|   LATITUDE|   LONGITUDE|            LOCATION|Format District|\n",
            "+------------+-------------+-------------------+-------+-----+-----+--------------------+------------+------------+------------+------------+------------+-----------+------------+--------------------+---------------+\n",
            "|Headquarters| Headquarters|3510 S Michigan Ave|Chicago|   IL|60653|http://home.chica...|        NULL|        NULL|        NULL| 1177731.401| 1881697.404|41.83070169|-87.62339535|(41.8307016873, -...|            Hea|\n",
            "|          18|   Near North| 1160 N Larrabee St|Chicago|   IL|60610|http://home.chica...|312-742-5870|312-742-5771|312-742-5773| 1172080.029| 1908086.527|41.90324165|-87.64335214|(41.9032416531, -...|            018|\n",
            "|          19|    Town Hall|   850 W Addison St|Chicago|   IL|60613|http://home.chica...|312-744-8320|312-744-4481|312-744-8011| 1169730.744| 1924160.317|41.94740046|-87.65151202|(41.9474004564, -...|            019|\n",
            "|          20|      Lincoln| 5400 N Lincoln Ave|Chicago|   IL|60625|http://home.chica...|312-742-8714|312-742-8803|312-742-8841| 1158399.146| 1935788.826|41.97954951|-87.69284451|(41.9795495131, -...|            020|\n",
            "|          22|  Morgan Park|1900 W Monterey Ave|Chicago|   IL|60643|http://home.chica...|312-745-0710|312-745-0814|312-745-0569| 1165825.476| 1830851.333|41.69143478|-87.66852039|(41.6914347795, -...|            022|\n",
            "+------------+-------------+-------------------+-------+-----+-----+--------------------+------------+------------+------------+------------+------------+-----------+------------+--------------------+---------------+\n",
            "only showing top 5 rows\n",
            "\n"
          ]
        }
      ],
      "source": [
        "ps = ps.withColumn('Format District',lpad(col('District'),3,'0'))\n",
        "ps.show(5)"
      ]
    },
    {
      "cell_type": "code",
      "execution_count": null,
      "metadata": {},
      "outputs": [
        {
          "name": "stderr",
          "output_type": "stream",
          "text": [
            "24/08/17 11:08:26 WARN SparkStringUtils: Truncated the string representation of a plan since it was too large. This behavior can be adjusted by setting 'spark.sql.debug.maxToStringFields'.\n"
          ]
        },
        {
          "name": "stdout",
          "output_type": "stream",
          "text": [
            "+--------+-----------+-------------------+-----------------------------------+----+--------------------------+---------------------------------------------------+--------------------------------------+------+--------+----+--------+----+--------------+--------+------------+------------+----+----------------------+------------+-------------+-----------------------------+--------+--------------+------------------------+-------+-----+-----+------------------------------------------------------------------------------+------------+------------+------------+------------+------------+-----------+------------+-------------------------------+---------------+\n",
            "|ID      |Case Number|Date               |Block                              |IUCR|Primary Type              |Description                                        |Location Description                  |Arrest|Domestic|Beat|District|Ward|Community Area|FBI Code|X Coordinate|Y Coordinate|Year|Updated On            |Latitude    |Longitude    |Location                     |DISTRICT|DISTRICT NAME |ADDRESS                 |CITY   |STATE|ZIP  |WEBSITE                                                                       |PHONE       |FAX         |TTY         |X COORDINATE|Y COORDINATE|LATITUDE   |LONGITUDE   |LOCATION                       |Format District|\n",
            "+--------+-----------+-------------------+-----------------------------------+----+--------------------------+---------------------------------------------------+--------------------------------------+------+--------+----+--------+----+--------------+--------+------------+------------+----+----------------------+------------+-------------+-----------------------------+--------+--------------+------------------------+-------+-----+-----+------------------------------------------------------------------------------+------------+------------+------------+------------+------------+-----------+------------+-------------------------------+---------------+\n",
            "|5741943 |HN549294   |2007-08-25 09:22:18|074XX N ROGERS AVE                 |0560|ASSAULT                   |SIMPLE                                             |OTHER                                 |false |false   |2422|024     |49  |1             |08A     |NULL        |NULL        |2007|08/17/2015 03:03:40 PM|NULL        |NULL         |NULL                         |24      |Rogers Park   |6464 N Clark St         |Chicago|IL   |60626|http://home.chicagopolice.org/community/districts/24th-district-rogers-park/  |312-744-5907|312-744-6928|312-744-7603|1164193.588 |1943199.401 |41.99976348|-87.67132429|(41.9997634842, -87.6713242922)|024            |\n",
            "|1930689 |HH109118   |2002-01-05 21:24:00|007XX E 103 ST                     |0820|THEFT                     |$500 AND UNDER                                     |GAS STATION                           |true  |false   |0512|005     |NULL|NULL          |06      |NULL        |NULL        |2002|02/04/2016 06:33:39 AM|NULL        |NULL         |NULL                         |5       |Calumet       |727 E 111th St          |Chicago|IL   |60628|http://home.chicagopolice.org/community/districts/5th-district-calumet/       |312-747-8210|312-747-5935|312-747-9170|1183305.427 |1831462.313 |41.69272336|-87.60450587|(41.6927233639, -87.6045058667)|005            |\n",
            "|12416974|JE293464   |2011-08-10 00:01:00|031XX W 53RD PL                    |1753|OFFENSE INVOLVING CHILDREN|SEXUAL ASSAULT OF CHILD BY FAMILY MEMBER           |RESIDENCE                             |false |true    |0923|009     |14  |63            |02      |NULL        |NULL        |2011|09/14/2023 03:41:59 PM|NULL        |NULL         |NULL                         |9       |Deering       |3120 S Halsted St       |Chicago|IL   |60608|http://home.chicagopolice.org/community/districts/9th-district-deering/       |312-747-8227|312-747-5329|312-747-9172|1171440.24  |1884085.224 |41.83739443|-87.64640771|(41.8373944311, -87.6464077068)|009            |\n",
            "|12536164|JE439378   |2015-09-24 00:00:00|031XX W 53RD PL                    |1753|OFFENSE INVOLVING CHILDREN|SEXUAL ASSAULT OF CHILD BY FAMILY MEMBER           |APARTMENT                             |false |true    |0923|009     |14  |63            |02      |NULL        |NULL        |2015|09/14/2023 03:41:59 PM|NULL        |NULL         |NULL                         |9       |Deering       |3120 S Halsted St       |Chicago|IL   |60608|http://home.chicagopolice.org/community/districts/9th-district-deering/       |312-747-8227|312-747-5329|312-747-9172|1171440.24  |1884085.224 |41.83739443|-87.64640771|(41.8373944311, -87.6464077068)|009            |\n",
            "|12536166|JE439332   |2014-09-07 00:00:00|031XX W 53RD PL                    |1753|OFFENSE INVOLVING CHILDREN|SEXUAL ASSAULT OF CHILD BY FAMILY MEMBER           |APARTMENT                             |false |true    |0923|009     |14  |63            |02      |NULL        |NULL        |2014|09/14/2023 03:41:59 PM|NULL        |NULL         |NULL                         |9       |Deering       |3120 S Halsted St       |Chicago|IL   |60608|http://home.chicagopolice.org/community/districts/9th-district-deering/       |312-747-8227|312-747-5329|312-747-9172|1171440.24  |1884085.224 |41.83739443|-87.64640771|(41.8373944311, -87.6464077068)|009            |\n",
            "|13158716|JG362691   |2018-11-09 00:00:00|017XX N NASHVILLE AVE              |0265|CRIMINAL SEXUAL ASSAULT   |AGGRAVATED - OTHER                                 |RESIDENCE                             |false |false   |2513|025     |29  |25            |02      |1132147     |1910836     |2018|09/14/2023 03:41:59 PM|41.911574252|-87.789972279|(41.911574252, -87.789972279)|25      |Grand Central |5555 W Grand Ave        |Chicago|IL   |60639|http://home.chicagopolice.org/community/districts/25th-district-grand-central/|312-746-8605|312-746-4353|312-746-8383|1138770.871 |1913442.439 |41.91860889|-87.76557448|(41.9186088912, -87.765574479) |025            |\n",
            "|13188119|JG397237   |2015-05-15 00:00:00|041XX W 24TH PL                    |1754|OFFENSE INVOLVING CHILDREN|AGGRAVATED SEXUAL ASSAULT OF CHILD BY FAMILY MEMBER|APARTMENT                             |true  |true    |1013|010     |22  |30            |02      |NULL        |NULL        |2015|09/14/2023 03:41:59 PM|NULL        |NULL         |NULL                         |10      |Ogden         |3315 W Ogden Ave        |Chicago|IL   |60623|http://home.chicagopolice.org/community/districts/10th-district-ogden/        |312-747-7511|312-747-7429|312-747-7471|1154500.753 |1890985.501 |41.85668453|-87.70838196|(41.8566845327, -87.708381958) |010            |\n",
            "|7823660 |HS634379   |2010-11-19 09:00:00|076XX S ABERDEEN ST                |0320|ROBBERY                   |STRONG ARM - NO WEAPON                             |RESIDENCE                             |true  |false   |0612|006     |17  |71            |03      |1170306     |1854179     |2010|09/14/2023 03:41:59 PM|41.755353249|-87.651440192|(41.755353249, -87.651440192)|6       |Gresham       |7808 S Halsted St       |Chicago|IL   |60620|http://home.chicagopolice.org/community/districts/6th-district-gresham/       |312-745-3617|312-745-3649|312-745-3639|1172283.013 |1853022.646 |41.75213684|-87.64422891|(41.7521368378, -87.6442289066)|006            |\n",
            "|13193781|JG397432   |2015-06-18 00:00:00|031XX S KOSTNER AVE                |1752|OFFENSE INVOLVING CHILDREN|AGGRAVATED CRIMINAL SEXUAL ABUSE BY FAMILY MEMBER  |RESIDENCE                             |false |true    |1031|010     |22  |30            |17      |NULL        |NULL        |2015|09/14/2023 03:43:09 PM|NULL        |NULL         |NULL                         |10      |Ogden         |3315 W Ogden Ave        |Chicago|IL   |60623|http://home.chicagopolice.org/community/districts/10th-district-ogden/        |312-747-7511|312-747-7429|312-747-7471|1154500.753 |1890985.501 |41.85668453|-87.70838196|(41.8566845327, -87.708381958) |010            |\n",
            "|13209443|JG422673   |2004-09-17 00:00:00|007XX W 47TH PL                    |1752|OFFENSE INVOLVING CHILDREN|AGGRAVATED CRIMINAL SEXUAL ABUSE BY FAMILY MEMBER  |RESIDENCE                             |false |true    |0935|009     |15  |61            |17      |NULL        |NULL        |2004|09/23/2023 03:41:15 PM|NULL        |NULL         |NULL                         |9       |Deering       |3120 S Halsted St       |Chicago|IL   |60608|http://home.chicagopolice.org/community/districts/9th-district-deering/       |312-747-8227|312-747-5329|312-747-9172|1171440.24  |1884085.224 |41.83739443|-87.64640771|(41.8373944311, -87.6464077068)|009            |\n",
            "|13209468|JG422994   |2013-08-27 00:00:00|087XX S BURLEY AVE                 |1153|DECEPTIVE PRACTICE        |FINANCIAL IDENTITY THEFT OVER $ 300                |APARTMENT                             |false |false   |0424|004     |10  |46            |11      |NULL        |NULL        |2013|09/14/2023 03:43:09 PM|NULL        |NULL         |NULL                         |4       |South Chicago |2255 E 103rd St         |Chicago|IL   |60617|http://home.chicagopolice.org/community/districts/4th-district-south-chicago/ |312-747-7581|312-747-5276|312-747-9169|1193131.299 |1837090.265 |41.70793329|-87.56834912|(41.7079332906, -87.5683491228)|004            |\n",
            "|12491515|JE384510   |2018-09-15 08:00:00|002XX W RANDOLPH ST                |1140|DECEPTIVE PRACTICE        |EMBEZZLEMENT                                       |COMMERCIAL / BUSINESS OFFICE          |true  |false   |0122|001     |42  |32            |12      |NULL        |NULL        |2018|09/15/2023 03:41:25 PM|NULL        |NULL         |NULL                         |1       |Central       |1718 S State St         |Chicago|IL   |60616|http://home.chicagopolice.org/community/districts/1st-district-central/       |312-745-4290|312-745-3694|312-745-3693|1176569.052 |1891771.704 |41.85837259|-87.62735617|(41.8583725929, -87.627356171) |001            |\n",
            "|11024186|JA354104   |2017-07-14 00:30:00|038XX N RICHMOND ST                |0810|THEFT                     |OVER $500                                          |RESIDENCE                             |false |false   |1733|017     |33  |16            |06      |NULL        |NULL        |2017|07/21/2017 03:52:41 PM|NULL        |NULL         |NULL                         |17      |Albany Park   |4650 N Pulaski Rd       |Chicago|IL   |60630|http://home.chicagopolice.org/community/districts/17th-district-albany-park/  |312-742-4410|312-742-5411|312-742-5451|1148843.91  |1930801.058 |41.96605342|-87.72811456|(41.9660534171, -87.728114561) |017            |\n",
            "|11270698|JB203407   |2017-09-29 13:00:00|0000X E HURON ST                   |0810|THEFT                     |OVER $500                                          |OTHER                                 |false |false   |1834|018     |42  |8             |06      |NULL        |NULL        |2017|03/30/2018 03:53:14 PM|NULL        |NULL         |NULL                         |18      |Near North    |1160 N Larrabee St      |Chicago|IL   |60610|http://home.chicagopolice.org/community/districts/18th-district-near-north/   |312-742-5870|312-742-5771|312-742-5773|1172080.029 |1908086.527 |41.90324165|-87.64335214|(41.9032416531, -87.6433521393)|018            |\n",
            "|13210140|JG423674   |2017-07-17 07:00:00|078XX S KINGSTON AVE               |1153|DECEPTIVE PRACTICE        |FINANCIAL IDENTITY THEFT OVER $ 300                |RESIDENCE                             |false |false   |0421|004     |7   |43            |11      |NULL        |NULL        |2017|09/15/2023 03:42:23 PM|NULL        |NULL         |NULL                         |4       |South Chicago |2255 E 103rd St         |Chicago|IL   |60617|http://home.chicagopolice.org/community/districts/4th-district-south-chicago/ |312-747-7581|312-747-5276|312-747-9169|1193131.299 |1837090.265 |41.70793329|-87.56834912|(41.7079332906, -87.5683491228)|004            |\n",
            "|13206379|JG418537   |2007-01-01 16:40:00|053XX S SHORE DR                   |1153|DECEPTIVE PRACTICE        |FINANCIAL IDENTITY THEFT OVER $ 300                |NULL                                  |false |false   |0234|002     |5   |41            |11      |NULL        |NULL        |2007|09/16/2023 03:42:58 PM|NULL        |NULL         |NULL                         |2       |Wentworth     |5101 S Wentworth Ave    |Chicago|IL   |60609|http://home.chicagopolice.org/community/districts/2nd-district-wentworth/     |312-747-8366|312-747-5396|312-747-6656|1175864.837 |1871153.753 |41.80181109|-87.63056018|(41.8018110912, -87.6305601801)|002            |\n",
            "|11465250|JB456922   |2018-09-30 13:05:00|109XX S VINCENNES AVE              |051A|ASSAULT                   |AGGRAVATED - HANDGUN                               |PARKING LOT / GARAGE (NON RESIDENTIAL)|false |false   |2212|022     |19  |75            |04A     |1167716     |1832035     |2018|09/16/2023 03:41:56 PM|41.69464271 |-87.661565167|(41.69464271, -87.661565167) |22      |Morgan Park   |1900 W Monterey Ave     |Chicago|IL   |60643|http://home.chicagopolice.org/community/districts/22nd-district-morgan-park/  |312-745-0710|312-745-0814|312-745-0569|1165825.476 |1830851.333 |41.69143478|-87.66852039|(41.6914347795, -87.6685203937)|022            |\n",
            "|12755252|JF308430   |2015-08-30 00:00:00|049XX N DRAKE AVE                  |1752|OFFENSE INVOLVING CHILDREN|AGGRAVATED CRIMINAL SEXUAL ABUSE BY FAMILY MEMBER  |APARTMENT                             |false |true    |1712|017     |33  |14            |17      |NULL        |NULL        |2015|09/16/2023 03:41:56 PM|NULL        |NULL         |NULL                         |17      |Albany Park   |4650 N Pulaski Rd       |Chicago|IL   |60630|http://home.chicagopolice.org/community/districts/17th-district-albany-park/  |312-742-4410|312-742-5411|312-742-5451|1148843.91  |1930801.058 |41.96605342|-87.72811456|(41.9660534171, -87.728114561) |017            |\n",
            "|13113476|JG308610   |2018-09-01 00:00:00|067XX S ROCKWELL ST                |1753|OFFENSE INVOLVING CHILDREN|SEXUAL ASSAULT OF CHILD BY FAMILY MEMBER           |RESIDENCE                             |false |true    |0832|008     |16  |66            |02      |NULL        |NULL        |2018|09/16/2023 03:41:56 PM|NULL        |NULL         |NULL                         |8       |Chicago Lawn  |3420 W 63rd St          |Chicago|IL   |60629|http://home.chicagopolice.org/community/districts/8th-district-chicago-lawn/  |312-747-8730|312-747-8545|312-747-8116|1154575.242 |1862672.049 |41.77898719|-87.70886382|(41.778987189, -87.7088638153) |008            |\n",
            "|13159459|JG363465   |2017-05-31 00:00:00|017XX N LUNA AVE                   |1754|OFFENSE INVOLVING CHILDREN|AGGRAVATED SEXUAL ASSAULT OF CHILD BY FAMILY MEMBER|RESIDENCE                             |false |true    |2532|025     |37  |25            |02      |NULL        |NULL        |2017|09/16/2023 03:41:56 PM|NULL        |NULL         |NULL                         |25      |Grand Central |5555 W Grand Ave        |Chicago|IL   |60639|http://home.chicagopolice.org/community/districts/25th-district-grand-central/|312-746-8605|312-746-4353|312-746-8383|1138770.871 |1913442.439 |41.91860889|-87.76557448|(41.9186088912, -87.765574479) |025            |\n",
            "|10802231|HZ514502   |2016-11-11 16:00:00|049XX N KARLOV AVE                 |0810|THEFT                     |OVER $500                                          |STREET                                |false |false   |1712|017     |39  |14            |06      |NULL        |NULL        |2016|01/02/2017 03:51:13 PM|NULL        |NULL         |NULL                         |17      |Albany Park   |4650 N Pulaski Rd       |Chicago|IL   |60630|http://home.chicagopolice.org/community/districts/17th-district-albany-park/  |312-742-4410|312-742-5411|312-742-5451|1148843.91  |1930801.058 |41.96605342|-87.72811456|(41.9660534171, -87.728114561) |017            |\n",
            "|3848525 |HL223100   |2005-03-08 18:21:00|082XX S EXCHANGE AVE               |0312|ROBBERY                   |ARMED - KNIFE / CUTTING INSTRUMENT                 |SIDEWALK                              |false |false   |0424|004     |7   |46            |03      |1197257     |1850928     |2005|09/16/2023 03:41:56 PM|41.745803634|-87.552781439|(41.745803634, -87.552781439)|4       |South Chicago |2255 E 103rd St         |Chicago|IL   |60617|http://home.chicagopolice.org/community/districts/4th-district-south-chicago/ |312-747-7581|312-747-5276|312-747-9169|1193131.299 |1837090.265 |41.70793329|-87.56834912|(41.7079332906, -87.5683491228)|004            |\n",
            "|3853132 |HL225517   |2005-03-10 01:45:00|080XX S DREXEL AVE                 |0320|ROBBERY                   |STRONG ARM - NO WEAPON                             |APARTMENT                             |false |true    |0631|006     |8   |44            |03      |1183627     |1851969     |2005|09/16/2023 03:41:56 PM|41.748988677|-87.602691353|(41.748988677, -87.602691353)|6       |Gresham       |7808 S Halsted St       |Chicago|IL   |60620|http://home.chicagopolice.org/community/districts/6th-district-gresham/       |312-745-3617|312-745-3649|312-745-3639|1172283.013 |1853022.646 |41.75213684|-87.64422891|(41.7521368378, -87.6442289066)|006            |\n",
            "|3855343 |HL231135   |2005-03-12 21:17:43|084XX S HONORE ST                  |033A|ROBBERY                   |ATTEMPT ARMED - HANDGUN                            |SIDEWALK                              |false |false   |0614|006     |18  |71            |03      |1165489     |1848611     |2005|09/16/2023 03:41:56 PM|41.740177267|-87.66925077 |(41.740177267, -87.66925077) |6       |Gresham       |7808 S Halsted St       |Chicago|IL   |60620|http://home.chicagopolice.org/community/districts/6th-district-gresham/       |312-745-3617|312-745-3649|312-745-3639|1172283.013 |1853022.646 |41.75213684|-87.64422891|(41.7521368378, -87.6442289066)|006            |\n",
            "|3909883 |HL284160   |2005-04-09 11:00:00|0000X W 123RD ST                   |0340|ROBBERY                   |ATTEMPT STRONG ARM - NO WEAPON                     |STREET                                |false |false   |0523|005     |9   |53            |03      |1178014     |1823398     |2005|09/16/2023 03:41:56 PM|41.670714907|-87.624121645|(41.670714907, -87.624121645)|5       |Calumet       |727 E 111th St          |Chicago|IL   |60628|http://home.chicagopolice.org/community/districts/5th-district-calumet/       |312-747-8210|312-747-5935|312-747-9170|1183305.427 |1831462.313 |41.69272336|-87.60450587|(41.6927233639, -87.6045058667)|005            |\n",
            "|3917629 |HL289813   |2005-04-12 07:45:00|012XX W 83RD ST                    |0320|ROBBERY                   |STRONG ARM - NO WEAPON                             |RESIDENCE                             |false |true    |0613|006     |17  |71            |03      |1169579     |1849746     |2005|09/16/2023 03:41:56 PM|41.743204278|-87.65423268 |(41.743204278, -87.65423268) |6       |Gresham       |7808 S Halsted St       |Chicago|IL   |60620|http://home.chicagopolice.org/community/districts/6th-district-gresham/       |312-745-3617|312-745-3649|312-745-3639|1172283.013 |1853022.646 |41.75213684|-87.64422891|(41.7521368378, -87.6442289066)|006            |\n",
            "|4381966 |HL675021   |2005-10-15 14:58:00|079XX S GREENWOOD AVE              |0320|ROBBERY                   |STRONG ARM - NO WEAPON                             |APARTMENT                             |false |true    |0624|006     |8   |44            |03      |1184931     |1852548     |2005|09/16/2023 03:41:56 PM|41.750547026|-87.597894925|(41.750547026, -87.597894925)|6       |Gresham       |7808 S Halsted St       |Chicago|IL   |60620|http://home.chicagopolice.org/community/districts/6th-district-gresham/       |312-745-3617|312-745-3649|312-745-3639|1172283.013 |1853022.646 |41.75213684|-87.64422891|(41.7521368378, -87.6442289066)|006            |\n",
            "|4475557 |HL775890   |2005-12-07 03:08:00|033XX E 91ST ST                    |031A|ROBBERY                   |ARMED - HANDGUN                                    |STREET                                |false |false   |0424|004     |10  |46            |03      |1199721     |1845251     |2005|09/16/2023 03:41:56 PM|41.730163843|-87.543943874|(41.730163843, -87.543943874)|4       |South Chicago |2255 E 103rd St         |Chicago|IL   |60617|http://home.chicagopolice.org/community/districts/4th-district-south-chicago/ |312-747-7581|312-747-5276|312-747-9169|1193131.299 |1837090.265 |41.70793329|-87.56834912|(41.7079332906, -87.5683491228)|004            |\n",
            "|8029377 |HT260540   |2011-04-22 02:40:00|063XX S DR MARTIN LUTHER KING JR DR|0420|BATTERY                   |AGGRAVATED - KNIFE / CUTTING INSTRUMENT            |RESTAURANT                            |false |false   |0312|003     |20  |42            |04B     |1180014     |1862897     |2011|09/16/2023 03:41:56 PM|41.779059693|-87.615596501|(41.779059693, -87.615596501)|3       |Grand Crossing|7040 S Cottage Grove Ave|Chicago|IL   |60637|http://home.chicagopolice.org/community/districts/3rd-district-grand-crossing/|312-747-8201|312-747-5479|312-747-9168|1182739.183 |1858317.732 |41.76643089|-87.60574786|(41.7664308925, -87.6057478606)|003            |\n",
            "|8427725 |HV106221   |2001-05-01 00:00:00|064XX S MAPLEWOOD AVE              |1754|OFFENSE INVOLVING CHILDREN|AGGRAVATED SEXUAL ASSAULT OF CHILD BY FAMILY MEMBER|RESIDENCE                             |true  |true    |0825|008     |16  |66            |02      |NULL        |NULL        |2001|09/16/2023 03:41:56 PM|NULL        |NULL         |NULL                         |8       |Chicago Lawn  |3420 W 63rd St          |Chicago|IL   |60629|http://home.chicagopolice.org/community/districts/8th-district-chicago-lawn/  |312-747-8730|312-747-8545|312-747-8116|1154575.242 |1862672.049 |41.77898719|-87.70886382|(41.778987189, -87.7088638153) |008            |\n",
            "+--------+-----------+-------------------+-----------------------------------+----+--------------------------+---------------------------------------------------+--------------------------------------+------+--------+----+--------+----+--------------+--------+------------+------------+----+----------------------+------------+-------------+-----------------------------+--------+--------------+------------------------+-------+-----+-----+------------------------------------------------------------------------------+------------+------------+------------+------------+------------+-----------+------------+-------------------------------+---------------+\n",
            "only showing top 30 rows\n",
            "\n"
          ]
        }
      ],
      "source": [
        "rc.join(ps, rc[\"District\"] == ps[\"Format District\"], 'leftouter').show(30,truncate=False)"
      ]
    },
    {
      "cell_type": "code",
      "execution_count": 172,
      "metadata": {},
      "outputs": [
        {
          "data": {
            "text/plain": [
              "['DISTRICT',\n",
              " 'DISTRICT NAME',\n",
              " 'ADDRESS',\n",
              " 'CITY',\n",
              " 'STATE',\n",
              " 'ZIP',\n",
              " 'WEBSITE',\n",
              " 'PHONE',\n",
              " 'FAX',\n",
              " 'TTY',\n",
              " 'X COORDINATE',\n",
              " 'Y COORDINATE',\n",
              " 'LATITUDE',\n",
              " 'LONGITUDE',\n",
              " 'LOCATION',\n",
              " 'Format District']"
            ]
          },
          "execution_count": 172,
          "metadata": {},
          "output_type": "execute_result"
        }
      ],
      "source": [
        "ps.columns"
      ]
    },
    {
      "cell_type": "code",
      "execution_count": 173,
      "metadata": {},
      "outputs": [
        {
          "data": {
            "text/plain": [
              "DataFrame[DISTRICT: string, DISTRICT NAME: string]"
            ]
          },
          "execution_count": 173,
          "metadata": {},
          "output_type": "execute_result"
        }
      ],
      "source": [
        "ps.drop(\n",
        "    'ADDRESS',\n",
        " 'CITY',\n",
        " 'STATE',\n",
        " 'ZIP',\n",
        " 'WEBSITE',\n",
        " 'PHONE',\n",
        " 'FAX',\n",
        " 'TTY',\n",
        " 'X COORDINATE',\n",
        " 'Y COORDINATE',\n",
        " 'LATITUDE',\n",
        " 'LONGITUDE',\n",
        " 'LOCATION',\n",
        " 'Format District'\n",
        ")\n"
      ]
    },
    {
      "cell_type": "code",
      "execution_count": 174,
      "metadata": {},
      "outputs": [],
      "source": [
        "ps = ps.withColumn('Format District',lpad(col('District'),3,'0'))"
      ]
    },
    {
      "cell_type": "code",
      "execution_count": 180,
      "metadata": {},
      "outputs": [
        {
          "name": "stdout",
          "output_type": "stream",
          "text": [
            "+--------+-----------+-------------------+--------------------+----+--------------------+--------------------+--------------------+------+--------+----+--------+----+--------------+--------+------------+------------+----+--------------------+------------+-------------+--------------------+--------+-------------+---------------+\n",
            "|      ID|Case Number|               Date|               Block|IUCR|        Primary Type|         Description|Location Description|Arrest|Domestic|Beat|District|Ward|Community Area|FBI Code|X Coordinate|Y Coordinate|Year|          Updated On|    Latitude|    Longitude|            Location|DISTRICT|DISTRICT NAME|Format District|\n",
            "+--------+-----------+-------------------+--------------------+----+--------------------+--------------------+--------------------+------+--------+----+--------+----+--------------+--------+------------+------------+----+--------------------+------------+-------------+--------------------+--------+-------------+---------------+\n",
            "| 5741943|   HN549294|2007-08-25 09:22:18|  074XX N ROGERS AVE|0560|             ASSAULT|              SIMPLE|               OTHER| false|   false|2422|     024|  49|             1|     08A|        NULL|        NULL|2007|08/17/2015 03:03:...|        NULL|         NULL|                NULL|      24|  Rogers Park|            024|\n",
            "| 1930689|   HH109118|2002-01-05 21:24:00|      007XX E 103 ST|0820|               THEFT|      $500 AND UNDER|         GAS STATION|  true|   false|0512|     005|NULL|          NULL|      06|        NULL|        NULL|2002|02/04/2016 06:33:...|        NULL|         NULL|                NULL|       5|      Calumet|            005|\n",
            "|12416974|   JE293464|2011-08-10 00:01:00|     031XX W 53RD PL|1753|OFFENSE INVOLVING...|SEXUAL ASSAULT OF...|           RESIDENCE| false|    true|0923|     009|  14|            63|      02|        NULL|        NULL|2011|09/14/2023 03:41:...|        NULL|         NULL|                NULL|       9|      Deering|            009|\n",
            "|12536164|   JE439378|2015-09-24 00:00:00|     031XX W 53RD PL|1753|OFFENSE INVOLVING...|SEXUAL ASSAULT OF...|           APARTMENT| false|    true|0923|     009|  14|            63|      02|        NULL|        NULL|2015|09/14/2023 03:41:...|        NULL|         NULL|                NULL|       9|      Deering|            009|\n",
            "|12536166|   JE439332|2014-09-07 00:00:00|     031XX W 53RD PL|1753|OFFENSE INVOLVING...|SEXUAL ASSAULT OF...|           APARTMENT| false|    true|0923|     009|  14|            63|      02|        NULL|        NULL|2014|09/14/2023 03:41:...|        NULL|         NULL|                NULL|       9|      Deering|            009|\n",
            "|13158716|   JG362691|2018-11-09 00:00:00|017XX N NASHVILLE...|0265|CRIMINAL SEXUAL A...|  AGGRAVATED - OTHER|           RESIDENCE| false|   false|2513|     025|  29|            25|      02|     1132147|     1910836|2018|09/14/2023 03:41:...|41.911574252|-87.789972279|(41.911574252, -8...|      25|Grand Central|            025|\n",
            "|13188119|   JG397237|2015-05-15 00:00:00|     041XX W 24TH PL|1754|OFFENSE INVOLVING...|AGGRAVATED SEXUAL...|           APARTMENT|  true|    true|1013|     010|  22|            30|      02|        NULL|        NULL|2015|09/14/2023 03:41:...|        NULL|         NULL|                NULL|      10|        Ogden|            010|\n",
            "| 7823660|   HS634379|2010-11-19 09:00:00| 076XX S ABERDEEN ST|0320|             ROBBERY|STRONG ARM - NO W...|           RESIDENCE|  true|   false|0612|     006|  17|            71|      03|     1170306|     1854179|2010|09/14/2023 03:41:...|41.755353249|-87.651440192|(41.755353249, -8...|       6|      Gresham|            006|\n",
            "|13193781|   JG397432|2015-06-18 00:00:00| 031XX S KOSTNER AVE|1752|OFFENSE INVOLVING...|AGGRAVATED CRIMIN...|           RESIDENCE| false|    true|1031|     010|  22|            30|      17|        NULL|        NULL|2015|09/14/2023 03:43:...|        NULL|         NULL|                NULL|      10|        Ogden|            010|\n",
            "|13209443|   JG422673|2004-09-17 00:00:00|     007XX W 47TH PL|1752|OFFENSE INVOLVING...|AGGRAVATED CRIMIN...|           RESIDENCE| false|    true|0935|     009|  15|            61|      17|        NULL|        NULL|2004|09/23/2023 03:41:...|        NULL|         NULL|                NULL|       9|      Deering|            009|\n",
            "|13209468|   JG422994|2013-08-27 00:00:00|  087XX S BURLEY AVE|1153|  DECEPTIVE PRACTICE|FINANCIAL IDENTIT...|           APARTMENT| false|   false|0424|     004|  10|            46|      11|        NULL|        NULL|2013|09/14/2023 03:43:...|        NULL|         NULL|                NULL|       4|South Chicago|            004|\n",
            "|12491515|   JE384510|2018-09-15 08:00:00| 002XX W RANDOLPH ST|1140|  DECEPTIVE PRACTICE|        EMBEZZLEMENT|COMMERCIAL / BUSI...|  true|   false|0122|     001|  42|            32|      12|        NULL|        NULL|2018|09/15/2023 03:41:...|        NULL|         NULL|                NULL|       1|      Central|            001|\n",
            "|11024186|   JA354104|2017-07-14 00:30:00| 038XX N RICHMOND ST|0810|               THEFT|           OVER $500|           RESIDENCE| false|   false|1733|     017|  33|            16|      06|        NULL|        NULL|2017|07/21/2017 03:52:...|        NULL|         NULL|                NULL|      17|  Albany Park|            017|\n",
            "|11270698|   JB203407|2017-09-29 13:00:00|    0000X E HURON ST|0810|               THEFT|           OVER $500|               OTHER| false|   false|1834|     018|  42|             8|      06|        NULL|        NULL|2017|03/30/2018 03:53:...|        NULL|         NULL|                NULL|      18|   Near North|            018|\n",
            "|13210140|   JG423674|2017-07-17 07:00:00|078XX S KINGSTON AVE|1153|  DECEPTIVE PRACTICE|FINANCIAL IDENTIT...|           RESIDENCE| false|   false|0421|     004|   7|            43|      11|        NULL|        NULL|2017|09/15/2023 03:42:...|        NULL|         NULL|                NULL|       4|South Chicago|            004|\n",
            "|13206379|   JG418537|2007-01-01 16:40:00|    053XX S SHORE DR|1153|  DECEPTIVE PRACTICE|FINANCIAL IDENTIT...|                NULL| false|   false|0234|     002|   5|            41|      11|        NULL|        NULL|2007|09/16/2023 03:42:...|        NULL|         NULL|                NULL|       2|    Wentworth|            002|\n",
            "|11465250|   JB456922|2018-09-30 13:05:00|109XX S VINCENNES...|051A|             ASSAULT|AGGRAVATED - HANDGUN|PARKING LOT / GAR...| false|   false|2212|     022|  19|            75|     04A|     1167716|     1832035|2018|09/16/2023 03:41:...| 41.69464271|-87.661565167|(41.69464271, -87...|      22|  Morgan Park|            022|\n",
            "|12755252|   JF308430|2015-08-30 00:00:00|   049XX N DRAKE AVE|1752|OFFENSE INVOLVING...|AGGRAVATED CRIMIN...|           APARTMENT| false|    true|1712|     017|  33|            14|      17|        NULL|        NULL|2015|09/16/2023 03:41:...|        NULL|         NULL|                NULL|      17|  Albany Park|            017|\n",
            "|13113476|   JG308610|2018-09-01 00:00:00| 067XX S ROCKWELL ST|1753|OFFENSE INVOLVING...|SEXUAL ASSAULT OF...|           RESIDENCE| false|    true|0832|     008|  16|            66|      02|        NULL|        NULL|2018|09/16/2023 03:41:...|        NULL|         NULL|                NULL|       8| Chicago Lawn|            008|\n",
            "|13159459|   JG363465|2017-05-31 00:00:00|    017XX N LUNA AVE|1754|OFFENSE INVOLVING...|AGGRAVATED SEXUAL...|           RESIDENCE| false|    true|2532|     025|  37|            25|      02|        NULL|        NULL|2017|09/16/2023 03:41:...|        NULL|         NULL|                NULL|      25|Grand Central|            025|\n",
            "+--------+-----------+-------------------+--------------------+----+--------------------+--------------------+--------------------+------+--------+----+--------+----+--------------+--------+------------+------------+----+--------------------+------------+-------------+--------------------+--------+-------------+---------------+\n",
            "only showing top 20 rows\n",
            "\n"
          ]
        }
      ],
      "source": [
        "rc.join(ps, rc[\"District\"] == ps[\"Format District\"],'leftouter').show(20)"
      ]
    },
    {
      "cell_type": "code",
      "execution_count": 178,
      "metadata": {},
      "outputs": [],
      "source": [
        "ps = ps.drop(\n",
        "'ADDRESS',\n",
        " 'CITY',\n",
        " 'STATE',\n",
        " 'ZIP',\n",
        " 'WEBSITE',\n",
        " 'PHONE',\n",
        " 'FAX',\n",
        " 'TTY',\n",
        " 'X COORDINATE',\n",
        " 'Y COORDINATE',\n",
        " 'LATITUDE',\n",
        " 'LONGITUDE',\n",
        " 'LOCATION',\n",
        ")"
      ]
    },
    {
      "cell_type": "markdown",
      "metadata": {
        "id": "-aQQ2gBF3Azz"
      },
      "source": [
        "## (04-05) Challenge questions"
      ]
    },
    {
      "cell_type": "markdown",
      "metadata": {
        "id": "AopcTx5q3Az0"
      },
      "source": [
        "**What is the most frequently reported non-criminal activity?**"
      ]
    },
    {
      "cell_type": "code",
      "execution_count": 204,
      "metadata": {
        "id": "PEw5vyF63Az0"
      },
      "outputs": [],
      "source": [
        "nc = rc.filter(rc[\"Primary Type\"].like(\"NON%\"))"
      ]
    },
    {
      "cell_type": "code",
      "execution_count": 205,
      "metadata": {},
      "outputs": [
        {
          "name": "stderr",
          "output_type": "stream",
          "text": [
            "[Stage 202:===============================================>       (13 + 2) / 15]\r"
          ]
        },
        {
          "name": "stdout",
          "output_type": "stream",
          "text": [
            "+-------------------------------------------+-----+\n",
            "|Description                                |count|\n",
            "+-------------------------------------------+-----+\n",
            "|LOST PASSPORT                              |107  |\n",
            "|FOID - REVOCATION                          |75   |\n",
            "|NOTIFICATION OF CIVIL NO CONTACT ORDER     |9    |\n",
            "|NOTIFICATION OF STALKING - NO CONTACT ORDER|8    |\n",
            "|FOUND PASSPORT                             |4    |\n",
            "|CONCEALED CARRY LICENSE REVOCATION         |4    |\n",
            "|GUN OFFENDER NOTIFICATION-NO CONTACT       |3    |\n",
            "+-------------------------------------------+-----+\n",
            "\n"
          ]
        },
        {
          "name": "stderr",
          "output_type": "stream",
          "text": [
            "                                                                                \r"
          ]
        }
      ],
      "source": [
        "nc.groupBy(nc[\"Description\"]).count().orderBy('count',ascending = False).show(truncate=False)"
      ]
    },
    {
      "cell_type": "markdown",
      "metadata": {
        "id": "ff7cLpWh3Az0"
      },
      "source": [
        "**Using a bar chart, plot which day of the week has the most number of reported crime.**"
      ]
    },
    {
      "cell_type": "code",
      "execution_count": 215,
      "metadata": {
        "id": "mo8JV7083Az0"
      },
      "outputs": [],
      "source": [
        "from pyspark.sql.functions import dayofweek,date_format"
      ]
    },
    {
      "cell_type": "code",
      "execution_count": 217,
      "metadata": {},
      "outputs": [],
      "source": [
        "rc = rc.drop('DayOfWeek')"
      ]
    },
    {
      "cell_type": "code",
      "execution_count": 224,
      "metadata": {},
      "outputs": [
        {
          "name": "stdout",
          "output_type": "stream",
          "text": [
            "+-------------------+---------------+--------------------+\n",
            "|               Date|dayofweek(Date)|date_format(Date, E)|\n",
            "+-------------------+---------------+--------------------+\n",
            "|2007-08-25 09:22:18|              7|                 Sat|\n",
            "|2002-01-05 21:24:00|              7|                 Sat|\n",
            "|2011-08-10 00:01:00|              4|                 Wed|\n",
            "|2015-09-24 00:00:00|              5|                 Thu|\n",
            "|2014-09-07 00:00:00|              1|                 Sun|\n",
            "+-------------------+---------------+--------------------+\n",
            "only showing top 5 rows\n",
            "\n"
          ]
        }
      ],
      "source": [
        "rc.select('Date',dayofweek('Date'),date_format('Date','E'))"
      ]
    },
    {
      "cell_type": "code",
      "execution_count": 225,
      "metadata": {},
      "outputs": [],
      "source": [
        "rc = rc.withColumn('DayOfWeek',date_format('Date','E'))"
      ]
    },
    {
      "cell_type": "code",
      "execution_count": 227,
      "metadata": {},
      "outputs": [
        {
          "name": "stderr",
          "output_type": "stream",
          "text": [
            "[Stage 216:===============================================>       (13 + 2) / 15]\r"
          ]
        },
        {
          "name": "stdout",
          "output_type": "stream",
          "text": [
            "+---------+-------+\n",
            "|DayOfWeek|count  |\n",
            "+---------+-------+\n",
            "|Sun      |912503 |\n",
            "|Mon      |953317 |\n",
            "|Thu      |965182 |\n",
            "|Sat      |965646 |\n",
            "|Wed      |974443 |\n",
            "|Fri      |1017532|\n",
            "|Tue      |968599 |\n",
            "+---------+-------+\n",
            "\n"
          ]
        },
        {
          "name": "stderr",
          "output_type": "stream",
          "text": [
            "                                                                                \r"
          ]
        }
      ],
      "source": [
        "rc.groupBy(rc[\"DayOfWeek\"]).count().show(truncate=False)"
      ]
    },
    {
      "cell_type": "code",
      "execution_count": null,
      "metadata": {},
      "outputs": [],
      "source": [
        "cnt = [x[1] for x in (rc.groupBy(rc[\"DayOfWeek\"]).count().collect())]\n",
        "cnt"
      ]
    },
    {
      "cell_type": "code",
      "execution_count": 230,
      "metadata": {},
      "outputs": [
        {
          "name": "stderr",
          "output_type": "stream",
          "text": [
            "                                                                                \r"
          ]
        },
        {
          "data": {
            "text/plain": [
              "['Sun', 'Mon', 'Thu', 'Sat', 'Wed', 'Fri', 'Tue']"
            ]
          },
          "execution_count": 230,
          "metadata": {},
          "output_type": "execute_result"
        }
      ],
      "source": [
        "dow = [x[0] for x in (rc.groupBy(rc[\"DayOfWeek\"]).count().collect())]\n",
        "dow"
      ]
    },
    {
      "cell_type": "code",
      "execution_count": 240,
      "metadata": {},
      "outputs": [
        {
          "name": "stderr",
          "output_type": "stream",
          "text": [
            "WARNING:matplotlib.font_manager:Matplotlib is building the font cache; this may take a moment.\n"
          ]
        }
      ],
      "source": [
        "import pandas as pd\n",
        "import matplotlib.pyplot as plt"
      ]
    },
    {
      "cell_type": "code",
      "execution_count": 247,
      "metadata": {},
      "outputs": [
        {
          "data": {
            "text/plain": [
              "<Axes: xlabel='Day_Of_Week'>"
            ]
          },
          "execution_count": 247,
          "metadata": {},
          "output_type": "execute_result"
        },
        {
          "data": {
            "image/png": "[encoded data removed]",
            "text/plain": [
              "<Figure size 640x480 with 1 Axes>"
            ]
          },
          "metadata": {},
          "output_type": "display_data"
        }
      ],
      "source": [
        "df = pd.DataFrame({'Day_Of_Week' : dow, 'Count' : cnt })\n",
        "df.sort_values('Count',ascending=False).plot(kind = 'bar',x='Day_Of_Week',y='Count')"
      ]
    },
    {
      "cell_type": "markdown",
      "metadata": {
        "id": "oSOpIOhJ4etN"
      },
      "source": [
        "## (05-01) RDDs setup"
      ]
    },
    {
      "cell_type": "code",
      "execution_count": null,
      "metadata": {
        "id": "xcOe8kAS4etN"
      },
      "outputs": [],
      "source": []
    },
    {
      "cell_type": "code",
      "execution_count": null,
      "metadata": {
        "id": "uxMRo2C14etN"
      },
      "outputs": [],
      "source": []
    },
    {
      "cell_type": "code",
      "execution_count": null,
      "metadata": {
        "id": "eYDxom404etN"
      },
      "outputs": [],
      "source": []
    },
    {
      "cell_type": "code",
      "execution_count": null,
      "metadata": {
        "id": "OT4nbSiJ4etN"
      },
      "outputs": [],
      "source": []
    },
    {
      "cell_type": "code",
      "execution_count": null,
      "metadata": {
        "id": "uiOTLr8N4etO"
      },
      "outputs": [],
      "source": []
    },
    {
      "cell_type": "code",
      "execution_count": null,
      "metadata": {
        "id": "FWNY2gxZ4etO"
      },
      "outputs": [],
      "source": []
    },
    {
      "cell_type": "code",
      "execution_count": null,
      "metadata": {
        "id": "nyAtd_Rl4etO"
      },
      "outputs": [],
      "source": []
    },
    {
      "cell_type": "code",
      "execution_count": null,
      "metadata": {
        "id": "fAqt2hEX4etO"
      },
      "outputs": [],
      "source": []
    },
    {
      "cell_type": "code",
      "execution_count": null,
      "metadata": {
        "id": "eG-5DmgE4etO"
      },
      "outputs": [],
      "source": []
    },
    {
      "cell_type": "code",
      "execution_count": null,
      "metadata": {
        "id": "LpAhPr-0RW0E"
      },
      "outputs": [],
      "source": []
    },
    {
      "cell_type": "markdown",
      "metadata": {
        "id": "ShYgMK6jPsSt"
      },
      "source": [
        "**How many police stations are there?**"
      ]
    },
    {
      "cell_type": "code",
      "execution_count": null,
      "metadata": {
        "id": "2FbZPk84Pwxc"
      },
      "outputs": [],
      "source": []
    },
    {
      "cell_type": "code",
      "execution_count": null,
      "metadata": {
        "id": "Iv-dVhhhPwrO"
      },
      "outputs": [],
      "source": []
    },
    {
      "cell_type": "code",
      "execution_count": null,
      "metadata": {
        "id": "cQ1u4_cpGZqs"
      },
      "outputs": [],
      "source": []
    },
    {
      "cell_type": "code",
      "execution_count": null,
      "metadata": {
        "id": "8M0_0ZW1GZCO"
      },
      "outputs": [],
      "source": []
    },
    {
      "cell_type": "markdown",
      "metadata": {
        "id": "WKYiypY0MbJ1"
      },
      "source": [
        "**Display the District ID, District name, Address and Zip for the police station with District ID 7**\n",
        "\n"
      ]
    },
    {
      "cell_type": "code",
      "execution_count": null,
      "metadata": {
        "id": "iHxLAHHq4etO"
      },
      "outputs": [],
      "source": []
    },
    {
      "cell_type": "code",
      "execution_count": null,
      "metadata": {
        "id": "Z6dW5knty7pT"
      },
      "outputs": [],
      "source": []
    },
    {
      "cell_type": "code",
      "execution_count": null,
      "metadata": {
        "id": "6rMBWoqm4etO"
      },
      "outputs": [],
      "source": []
    },
    {
      "cell_type": "code",
      "execution_count": null,
      "metadata": {
        "id": "wHgN7nVW4etP"
      },
      "outputs": [],
      "source": []
    },
    {
      "cell_type": "markdown",
      "metadata": {
        "id": "1mWxQg2mN4W7"
      },
      "source": [
        "**Police stations 10 and 11 are geographically close to each other. Display the District ID, District name, address and zip code**"
      ]
    },
    {
      "cell_type": "code",
      "execution_count": null,
      "metadata": {
        "id": "9DiIzEr-Gadn"
      },
      "outputs": [],
      "source": []
    },
    {
      "cell_type": "code",
      "execution_count": null,
      "metadata": {
        "id": "CcdG-eOk4etP"
      },
      "outputs": [],
      "source": []
    },
    {
      "cell_type": "code",
      "execution_count": null,
      "metadata": {
        "id": "KnghPtPt4etP"
      },
      "outputs": [],
      "source": []
    },
    {
      "cell_type": "code",
      "execution_count": null,
      "metadata": {
        "id": "Bvd3ldUs4etP"
      },
      "outputs": [],
      "source": []
    },
    {
      "cell_type": "code",
      "execution_count": null,
      "metadata": {},
      "outputs": [],
      "source": []
    }
  ],
  "metadata": {
    "colab": {
      "collapsed_sections": [
        "qJoeN3e8_Gzk",
        "Dd6t0uFzuR4X",
        "8qf-TmnsBgXd",
        "3UJoYm5zwOWp",
        "mI_zYOVpf2yK",
        "NiU1nhA3y0j4",
        "9sDnyyzozVxA",
        "D7Dw2UpQ08-9",
        "hiKFyArf14B0",
        "9lAyzg282V_4",
        "-aQQ2gBF3Azz",
        "oSOpIOhJ4etN"
      ],
      "provenance": []
    },
    "kernelspec": {
      "display_name": "Python 3",
      "name": "python3"
    },
    "language_info": {
      "codemirror_mode": {
        "name": "ipython",
        "version": 3
      },
      "file_extension": ".py",
      "mimetype": "text/x-python",
      "name": "python",
      "nbconvert_exporter": "python",
      "pygments_lexer": "ipython3",
      "version": "3.12.2"
    }
  },
  "nbformat": 4,
  "nbformat_minor": 0
}
